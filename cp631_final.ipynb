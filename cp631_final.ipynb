{
  "cells": [
    {
      "cell_type": "markdown",
      "metadata": {
        "id": "_cMA83jienXc"
      },
      "source": [
        "## Prerequisites"
      ]
    },
    {
      "cell_type": "markdown",
      "metadata": {
        "id": "Fi1lrF4OCIXR"
      },
      "source": [
        "### Delare params dict"
      ]
    },
    {
      "cell_type": "code",
      "execution_count": 1,
      "metadata": {
        "id": "cMu8SC9pCIXS"
      },
      "outputs": [],
      "source": [
        "params = {}"
      ]
    },
    {
      "cell_type": "markdown",
      "metadata": {
        "id": "Rk9UnL-SenXg"
      },
      "source": [
        "### Google Colab Environment Checking"
      ]
    },
    {
      "cell_type": "code",
      "execution_count": 2,
      "metadata": {
        "colab": {
          "base_uri": "https://localhost:8080/"
        },
        "id": "zaiv3QLKenXh",
        "outputId": "d9fe1c4a-a69f-4914-95dc-5ed871b84404"
      },
      "outputs": [
        {
          "name": "stdout",
          "output_type": "stream",
          "text": [
            "In colab:  False\n",
            "Project root:  ./\n"
          ]
        }
      ],
      "source": [
        "import os\n",
        "import sys\n",
        "\n",
        "params[\"in_colab\"] = 'google.colab' in sys.modules\n",
        "print(\"In colab: \", params[\"in_colab\"])\n",
        "os.environ[\"PROJECT_ROOT\"] = \"./\"\n",
        "print(\"Project root: \", os.environ[\"PROJECT_ROOT\"])\n",
        "\n"
      ]
    },
    {
      "cell_type": "markdown",
      "metadata": {
        "id": "CdmQ2Dn-CIXV"
      },
      "source": [
        "### Jupyter Notebook Environment Checking"
      ]
    },
    {
      "cell_type": "code",
      "execution_count": 3,
      "metadata": {
        "colab": {
          "base_uri": "https://localhost:8080/"
        },
        "id": "KdeYy3ubCIXV",
        "outputId": "62ff6f54-dbc2-4471-a0c4-a095756a2452"
      },
      "outputs": [
        {
          "name": "stdout",
          "output_type": "stream",
          "text": [
            "in_notebook: True\n"
          ]
        }
      ],
      "source": [
        "def in_notebook():\n",
        "    try:\n",
        "        from IPython import get_ipython\n",
        "        if 'IPKernelApp' not in get_ipython().config:  # pragma: no cover\n",
        "            return False\n",
        "    except ImportError:\n",
        "        return False\n",
        "    return True\n",
        "\n",
        "params[\"in_notebook\"] = in_notebook()\n",
        "print(f\"in_notebook: {params['in_notebook']}\")"
      ]
    },
    {
      "cell_type": "markdown",
      "metadata": {
        "id": "kbdgrqQeenXi"
      },
      "source": [
        "### MacOS Environment Checking\n",
        "\n",
        "In this code, platform.system() returns the name of the operating system dependent module imported. The returned value is 'Darwin' for MacOS, 'Linux' for Linux, 'Windows' for Windows and so on. If the returned value is 'Darwin', it means you are using MacOS."
      ]
    },
    {
      "cell_type": "code",
      "execution_count": 4,
      "metadata": {
        "colab": {
          "base_uri": "https://localhost:8080/"
        },
        "id": "BQFvqBU-CIXW",
        "outputId": "2bc77967-715f-442b-c35a-c6db583ac6d2"
      },
      "outputs": [
        {
          "name": "stdout",
          "output_type": "stream",
          "text": [
            "Requirement already satisfied: distro in c:\\users\\reidlai\\miniconda3\\lib\\site-packages (1.8.0)\n"
          ]
        }
      ],
      "source": [
        "!pip install distro"
      ]
    },
    {
      "cell_type": "code",
      "execution_count": 5,
      "metadata": {
        "colab": {
          "base_uri": "https://localhost:8080/"
        },
        "id": "DNAu7JYienXj",
        "outputId": "edbbddd0-cac7-4896-dbfb-b817d7cdfd82"
      },
      "outputs": [
        {
          "name": "stdout",
          "output_type": "stream",
          "text": [
            "is_macos: False\n",
            "is_debian: False\n",
            "is_windows: True\n"
          ]
        }
      ],
      "source": [
        "import platform\n",
        "import distro\n",
        "\n",
        "if platform.system() == 'Darwin':\n",
        "    params[\"is_macos\"] = True\n",
        "else:\n",
        "    params[\"is_macos\"] = False\n",
        "\n",
        "print(f'is_macos: {params[\"is_macos\"]}')\n",
        "\n",
        "if platform.system() == 'Linux':\n",
        "    distro_name = distro.id()\n",
        "    if 'debian' in distro_name.lower() or 'ubuntu' in distro_name.lower():\n",
        "        params[\"is_debian\"] = True\n",
        "    else:\n",
        "        params[\"is_debian\"] = False\n",
        "else:\n",
        "    params[\"is_debian\"] = False\n",
        "print(f'is_debian: {params[\"is_debian\"]}')\n",
        "\n",
        "if platform.system() == 'Windows':\n",
        "    params[\"is_windows\"] = True\n",
        "else:\n",
        "    params[\"is_windows\"] = False\n",
        "print(f'is_windows: {params[\"is_windows\"]}')"
      ]
    },
    {
      "cell_type": "markdown",
      "metadata": {
        "id": "2taQ58EOCIXX"
      },
      "source": [
        "### Check if using Ubuntu WSL 2.0 or not"
      ]
    },
    {
      "cell_type": "code",
      "execution_count": 6,
      "metadata": {
        "colab": {
          "base_uri": "https://localhost:8080/"
        },
        "id": "5YyBBl0tCIXX",
        "outputId": "ad1ae364-6884-4d8b-f59a-dc43438aeeef"
      },
      "outputs": [
        {
          "name": "stdout",
          "output_type": "stream",
          "text": [
            "is_wsl: False\n"
          ]
        }
      ],
      "source": [
        "def is_wsl():\n",
        "    try:\n",
        "        with open('/proc/version', 'r') as fh:\n",
        "            return 'microsoft' in fh.read().lower()\n",
        "    except FileNotFoundError:\n",
        "        return False\n",
        "\n",
        "params[\"is_wsl\"] = is_wsl()\n",
        "print(f\"is_wsl: {params['is_wsl']}\")\n"
      ]
    },
    {
      "cell_type": "markdown",
      "metadata": {
        "id": "XeA5CxA8enXm"
      },
      "source": [
        "### Check if MPI installed in OS\n",
        "\n",
        "Use the mpirun command to see if MPI is up and running."
      ]
    },
    {
      "cell_type": "code",
      "execution_count": 7,
      "metadata": {
        "colab": {
          "base_uri": "https://localhost:8080/"
        },
        "id": "I5XesPBpxxj3",
        "outputId": "7b99c4fb-75b1-49b9-98de-abb86b39bdf0"
      },
      "outputs": [
        {
          "name": "stdout",
          "output_type": "stream",
          "text": [
            "MPI installed: False\n",
            "[FATAL] MPI is not installed\n"
          ]
        }
      ],
      "source": [
        "import subprocess\n",
        "\n",
        "def is_mpi_installed():\n",
        "    try:\n",
        "        if params[\"is_macos\"]:\n",
        "          subprocess.check_output([\"/usr/local/bin/mpirun\", \"--version\"])\n",
        "        else:\n",
        "          subprocess.check_output([\"mpirun\", \"--version\"])\n",
        "        return True\n",
        "    except (subprocess.CalledProcessError, FileNotFoundError):\n",
        "        return False\n",
        "\n",
        "params[\"mpi_installed\"] = is_mpi_installed()\n",
        "print(f'MPI installed: {params[\"mpi_installed\"]}')\n",
        "\n",
        "if not params[\"mpi_installed\"]:\n",
        "    print(\"[FATAL] MPI is not installed\")"
      ]
    },
    {
      "cell_type": "markdown",
      "metadata": {
        "id": "3JZc6KX3xxj4"
      },
      "source": [
        "### Check if NVIDIA CUDA toolkit installed\n",
        "\n",
        "Use the numba command to see if MPI is up and running."
      ]
    },
    {
      "cell_type": "code",
      "execution_count": 8,
      "metadata": {
        "colab": {
          "base_uri": "https://localhost:8080/"
        },
        "id": "mepEnulICIXX",
        "outputId": "24858b88-a04b-42d5-b704-0495e610cce5"
      },
      "outputs": [
        {
          "name": "stdout",
          "output_type": "stream",
          "text": [
            "Requirement already satisfied: numba in c:\\users\\reidlai\\miniconda3\\lib\\site-packages (0.59.0)\n",
            "Requirement already satisfied: llvmlite<0.43,>=0.42.0dev0 in c:\\users\\reidlai\\miniconda3\\lib\\site-packages (from numba) (0.42.0)\n",
            "Requirement already satisfied: numpy<1.27,>=1.22 in c:\\users\\reidlai\\miniconda3\\lib\\site-packages (from numba) (1.26.4)\n"
          ]
        }
      ],
      "source": [
        "!pip install numba"
      ]
    },
    {
      "cell_type": "code",
      "execution_count": 9,
      "metadata": {
        "colab": {
          "base_uri": "https://localhost:8080/"
        },
        "id": "_iHwripSxxj4",
        "outputId": "35d45f12-c32d-4230-fd88-dab110eaea8c"
      },
      "outputs": [
        {
          "name": "stdout",
          "output_type": "stream",
          "text": [
            "CUDA installed: False\n",
            "[FATAL] CUDA is not installed\n"
          ]
        }
      ],
      "source": [
        "from numba import cuda\n",
        "\n",
        "def is_cuda_installed():\n",
        "    try:\n",
        "        cuda.detect()\n",
        "        return True\n",
        "    except cuda.CudaSupportError:\n",
        "        return False\n",
        "\n",
        "params[\"cuda_installed\"] = is_cuda_installed()\n",
        "print(f'CUDA installed: {params[\"cuda_installed\"]}')\n",
        "\n",
        "if not params[\"cuda_installed\"]:\n",
        "    print(\"[FATAL] CUDA is not installed\")"
      ]
    },
    {
      "cell_type": "markdown",
      "metadata": {
        "id": "on4x2zzXenXj"
      },
      "source": [
        "### Install MPI and CUDA if not installed"
      ]
    },
    {
      "cell_type": "markdown",
      "metadata": {
        "id": "QRZbDkF7xxj4"
      },
      "source": [
        "**Reminder**: Because latest Macbook does not bundle with NVIDIA CUDA compatible GPU and CUDA toolkits since at least CUDA 4.0 have not supported an ability to run cuda code without a GPU, this program cannot support MacOS environment."
      ]
    },
    {
      "cell_type": "markdown",
      "metadata": {
        "id": "MhPuTnBxxxj4"
      },
      "source": [
        "If mpi_installed of the above result show False, please install openmpi binary and library based on your platform.\n",
        "\n",
        "In Ubuntu you can install Open MPI as follow\n",
        "\n",
        "```bash\n",
        "sudo apt update\n",
        "sudo apt install openmpi-bin\n",
        "sudo apt install libopenmpi-dev\n",
        "```\n",
        "\n",
        "The following code will install Open MPI in Google Colab"
      ]
    },
    {
      "cell_type": "code",
      "execution_count": 10,
      "metadata": {
        "colab": {
          "base_uri": "https://localhost:8080/"
        },
        "id": "4VcuVz1nenXj",
        "outputId": "07919c62-a5cd-4b80-a57b-83757b02cf56"
      },
      "outputs": [
        {
          "name": "stdout",
          "output_type": "stream",
          "text": [
            "MPI is installed\n"
          ]
        }
      ],
      "source": [
        "import os\n",
        "\n",
        "if params[\"in_colab\"] and not params[\"mpi_installed\"]:\n",
        "    print(\"Installing MPI\")\n",
        "    !apt update\n",
        "    !apt install openmpi-bin\n",
        "    !apt install libopenmpi-dev\n",
        "    print(\"MPI installed\")\n",
        "else:\n",
        "    print(\"MPI is installed\")"
      ]
    },
    {
      "cell_type": "markdown",
      "metadata": {
        "id": "v6asE4ZCxxj5"
      },
      "source": [
        "if cuda_installed show False, please install NVIDIA CUDA toolkit in your platform\n",
        "\n",
        "In Ubuntu (except Ubuntu WSL 2.0 under Windows 10/11) you can install CUDA as follow\n",
        "\n",
        "```bash\n",
        "sudo apt update\n",
        "sudo apt install -y gpupg2\n",
        "wget https://developer.download.nvidia.com/compute/cuda/repos/debian10/x86_64/cuda-repo-debian10_10.2.89-1_amd64.deb\n",
        "sudo dpkg -i cuda-repo-debian10_10.2.89-1_amd64.deb\n",
        "sudo apt-key adv --fetch-keys https://developer.download.nvidia.com/compute/cuda/repos/debian10/x86_64/7fa2af80.pub\n",
        "sudo apt update\n",
        "sudo apt-get install cuda\n",
        "```\n",
        "\n",
        "Under Google Colab, cuda is bundled."
      ]
    },
    {
      "cell_type": "markdown",
      "metadata": {
        "id": "x7byduHsenXk"
      },
      "source": [
        "## Environment Setup"
      ]
    },
    {
      "cell_type": "markdown",
      "metadata": {
        "id": "PJo0uW_uenXl"
      },
      "source": [
        "### Kaggle Authenticiation\n",
        "\n",
        "In this notebook, we will download a dataset from Kaggle. Before beginning the download process, it is necessary to ensure an account on Kaggle available. If you do not wish to sign in and would rather bypass the login prompt by uploading your kaggle.json file directly instead, then obtain it from your account settings page and save it either in the project root directory or content directory of Google Colab before starting this notebook. This way, you can quickly access any datasets without needing to log into Kaggle every time!"
      ]
    },
    {
      "cell_type": "markdown",
      "metadata": {
        "id": "lFIkicQUenXl"
      },
      "source": [
        "### Install PyPi packages\n",
        "\n",
        "Installing PyPi packages is an essential step in this notebook. Among the mandatory packages, mpi4py and opendatasets provide crucial functionalities for data manipulation, distributed computing, and accessing large datasets. While Google Colab offers the convenience of bundled packages such as numpy, matplotlib, pandas, and seaborn, these packages still need to be installed separately in a local environment."
      ]
    },
    {
      "cell_type": "code",
      "execution_count": 11,
      "metadata": {
        "colab": {
          "base_uri": "https://localhost:8080/"
        },
        "id": "gNDNObGLenXl",
        "outputId": "83742162-a7dc-43d0-81df-b9f5f3854e87"
      },
      "outputs": [
        {
          "name": "stdout",
          "output_type": "stream",
          "text": [
            "Requirement already satisfied: pip in c:\\users\\reidlai\\miniconda3\\lib\\site-packages (23.3.1)\n",
            "Collecting pip\n",
            "  Downloading pip-24.0-py3-none-any.whl.metadata (3.6 kB)\n",
            "Downloading pip-24.0-py3-none-any.whl (2.1 MB)\n",
            "   ---------------------------------------- 0.0/2.1 MB ? eta -:--:--\n",
            "    --------------------------------------- 0.0/2.1 MB 660.6 kB/s eta 0:00:04\n",
            "   -------------------- ------------------- 1.1/2.1 MB 13.5 MB/s eta 0:00:01\n",
            "   ---------------------------------------  2.1/2.1 MB 16.4 MB/s eta 0:00:01\n",
            "   ---------------------------------------- 2.1/2.1 MB 14.9 MB/s eta 0:00:00\n"
          ]
        },
        {
          "name": "stderr",
          "output_type": "stream",
          "text": [
            "ERROR: To modify pip, please run the following command:\n",
            "C:\\Users\\reidlai\\miniconda3\\python.exe -m pip install --upgrade pip\n"
          ]
        },
        {
          "name": "stdout",
          "output_type": "stream",
          "text": [
            "Requirement already satisfied: mpi4py in c:\\users\\reidlai\\miniconda3\\lib\\site-packages (3.1.5)\n",
            "Collecting opendatasets\n",
            "  Using cached opendatasets-0.1.22-py3-none-any.whl.metadata (9.2 kB)\n",
            "Requirement already satisfied: tqdm in c:\\users\\reidlai\\miniconda3\\lib\\site-packages (from opendatasets) (4.65.0)\n",
            "Collecting kaggle (from opendatasets)\n",
            "  Using cached kaggle-1.6.6.tar.gz (84 kB)\n",
            "  Preparing metadata (setup.py): started\n",
            "  Preparing metadata (setup.py): finished with status 'done'\n",
            "Collecting click (from opendatasets)\n",
            "  Using cached click-8.1.7-py3-none-any.whl.metadata (3.0 kB)\n",
            "Requirement already satisfied: colorama in c:\\users\\reidlai\\miniconda3\\lib\\site-packages (from click->opendatasets) (0.4.6)\n",
            "Requirement already satisfied: six>=1.10 in c:\\users\\reidlai\\miniconda3\\lib\\site-packages (from kaggle->opendatasets) (1.16.0)\n",
            "Requirement already satisfied: certifi in c:\\users\\reidlai\\miniconda3\\lib\\site-packages (from kaggle->opendatasets) (2024.2.2)\n",
            "Requirement already satisfied: python-dateutil in c:\\users\\reidlai\\miniconda3\\lib\\site-packages (from kaggle->opendatasets) (2.9.0)\n",
            "Requirement already satisfied: requests in c:\\users\\reidlai\\miniconda3\\lib\\site-packages (from kaggle->opendatasets) (2.31.0)\n",
            "Collecting python-slugify (from kaggle->opendatasets)\n",
            "  Using cached python_slugify-8.0.4-py2.py3-none-any.whl.metadata (8.5 kB)\n",
            "Requirement already satisfied: urllib3 in c:\\users\\reidlai\\miniconda3\\lib\\site-packages (from kaggle->opendatasets) (2.1.0)\n",
            "Collecting bleach (from kaggle->opendatasets)\n",
            "  Using cached bleach-6.1.0-py3-none-any.whl.metadata (30 kB)\n",
            "Collecting webencodings (from bleach->kaggle->opendatasets)\n",
            "  Using cached webencodings-0.5.1-py2.py3-none-any.whl.metadata (2.1 kB)\n",
            "Collecting text-unidecode>=1.3 (from python-slugify->kaggle->opendatasets)\n",
            "  Using cached text_unidecode-1.3-py2.py3-none-any.whl.metadata (2.4 kB)\n",
            "Requirement already satisfied: charset-normalizer<4,>=2 in c:\\users\\reidlai\\miniconda3\\lib\\site-packages (from requests->kaggle->opendatasets) (2.0.4)\n",
            "Requirement already satisfied: idna<4,>=2.5 in c:\\users\\reidlai\\miniconda3\\lib\\site-packages (from requests->kaggle->opendatasets) (3.4)\n",
            "Using cached opendatasets-0.1.22-py3-none-any.whl (15 kB)\n",
            "Using cached click-8.1.7-py3-none-any.whl (97 kB)\n",
            "Using cached bleach-6.1.0-py3-none-any.whl (162 kB)\n",
            "Using cached python_slugify-8.0.4-py2.py3-none-any.whl (10 kB)\n",
            "Using cached text_unidecode-1.3-py2.py3-none-any.whl (78 kB)\n",
            "Using cached webencodings-0.5.1-py2.py3-none-any.whl (11 kB)\n",
            "Building wheels for collected packages: kaggle\n",
            "  Building wheel for kaggle (setup.py): started\n",
            "  Building wheel for kaggle (setup.py): finished with status 'done'\n",
            "  Created wheel for kaggle: filename=kaggle-1.6.6-py3-none-any.whl size=111954 sha256=9acbd69b8ffcccdb49193b59ac244a53c040235963b7109b63d3eb21011851d7\n",
            "  Stored in directory: c:\\users\\reidlai\\appdata\\local\\pip\\cache\\wheels\\16\\f0\\59\\684408dead276be2c1455b5ee141c49200ff13f2c788e04a05\n",
            "Successfully built kaggle\n",
            "Installing collected packages: webencodings, text-unidecode, python-slugify, click, bleach, kaggle, opendatasets\n",
            "Successfully installed bleach-6.1.0 click-8.1.7 kaggle-1.6.6 opendatasets-0.1.22 python-slugify-8.0.4 text-unidecode-1.3 webencodings-0.5.1\n",
            "Collecting yfinance\n",
            "  Using cached yfinance-0.2.37-py2.py3-none-any.whl.metadata (11 kB)\n",
            "Collecting pandas>=1.3.0 (from yfinance)\n",
            "  Downloading pandas-2.2.1-cp312-cp312-win_amd64.whl.metadata (19 kB)\n",
            "Requirement already satisfied: numpy>=1.16.5 in c:\\users\\reidlai\\miniconda3\\lib\\site-packages (from yfinance) (1.26.4)\n",
            "Requirement already satisfied: requests>=2.31 in c:\\users\\reidlai\\miniconda3\\lib\\site-packages (from yfinance) (2.31.0)\n",
            "Collecting multitasking>=0.0.7 (from yfinance)\n",
            "  Using cached multitasking-0.0.11-py3-none-any.whl.metadata (5.5 kB)\n",
            "Collecting lxml>=4.9.1 (from yfinance)\n",
            "  Downloading lxml-5.1.0-cp312-cp312-win_amd64.whl.metadata (3.6 kB)\n",
            "Collecting appdirs>=1.4.4 (from yfinance)\n",
            "  Using cached appdirs-1.4.4-py2.py3-none-any.whl.metadata (9.0 kB)\n",
            "Collecting pytz>=2022.5 (from yfinance)\n",
            "  Using cached pytz-2024.1-py2.py3-none-any.whl.metadata (22 kB)\n",
            "Collecting frozendict>=2.3.4 (from yfinance)\n",
            "  Downloading frozendict-2.4.0.tar.gz (314 kB)\n",
            "     ---------------------------------------- 0.0/314.6 kB ? eta -:--:--\n",
            "     -------------------------------------- 314.6/314.6 kB 9.5 MB/s eta 0:00:00\n",
            "  Installing build dependencies: started\n",
            "  Installing build dependencies: finished with status 'done'\n",
            "  Getting requirements to build wheel: started\n",
            "  Getting requirements to build wheel: finished with status 'done'\n",
            "  Preparing metadata (pyproject.toml): started\n",
            "  Preparing metadata (pyproject.toml): finished with status 'done'\n",
            "Collecting peewee>=3.16.2 (from yfinance)\n",
            "  Using cached peewee-3.17.1.tar.gz (3.0 MB)\n",
            "  Installing build dependencies: started\n",
            "  Installing build dependencies: finished with status 'done'\n",
            "  Getting requirements to build wheel: started\n",
            "  Getting requirements to build wheel: finished with status 'done'\n",
            "  Preparing metadata (pyproject.toml): started\n",
            "  Preparing metadata (pyproject.toml): finished with status 'done'\n",
            "Collecting beautifulsoup4>=4.11.1 (from yfinance)\n",
            "  Using cached beautifulsoup4-4.12.3-py3-none-any.whl.metadata (3.8 kB)\n",
            "Collecting html5lib>=1.1 (from yfinance)\n",
            "  Using cached html5lib-1.1-py2.py3-none-any.whl.metadata (16 kB)\n",
            "Collecting soupsieve>1.2 (from beautifulsoup4>=4.11.1->yfinance)\n",
            "  Using cached soupsieve-2.5-py3-none-any.whl.metadata (4.7 kB)\n",
            "Requirement already satisfied: six>=1.9 in c:\\users\\reidlai\\miniconda3\\lib\\site-packages (from html5lib>=1.1->yfinance) (1.16.0)\n",
            "Requirement already satisfied: webencodings in c:\\users\\reidlai\\miniconda3\\lib\\site-packages (from html5lib>=1.1->yfinance) (0.5.1)\n",
            "Requirement already satisfied: python-dateutil>=2.8.2 in c:\\users\\reidlai\\miniconda3\\lib\\site-packages (from pandas>=1.3.0->yfinance) (2.9.0)\n",
            "Collecting tzdata>=2022.7 (from pandas>=1.3.0->yfinance)\n",
            "  Using cached tzdata-2024.1-py2.py3-none-any.whl.metadata (1.4 kB)\n",
            "Requirement already satisfied: charset-normalizer<4,>=2 in c:\\users\\reidlai\\miniconda3\\lib\\site-packages (from requests>=2.31->yfinance) (2.0.4)\n",
            "Requirement already satisfied: idna<4,>=2.5 in c:\\users\\reidlai\\miniconda3\\lib\\site-packages (from requests>=2.31->yfinance) (3.4)\n",
            "Requirement already satisfied: urllib3<3,>=1.21.1 in c:\\users\\reidlai\\miniconda3\\lib\\site-packages (from requests>=2.31->yfinance) (2.1.0)\n",
            "Requirement already satisfied: certifi>=2017.4.17 in c:\\users\\reidlai\\miniconda3\\lib\\site-packages (from requests>=2.31->yfinance) (2024.2.2)\n",
            "Using cached yfinance-0.2.37-py2.py3-none-any.whl (72 kB)\n",
            "Using cached appdirs-1.4.4-py2.py3-none-any.whl (9.6 kB)\n",
            "Using cached beautifulsoup4-4.12.3-py3-none-any.whl (147 kB)\n",
            "Using cached html5lib-1.1-py2.py3-none-any.whl (112 kB)\n",
            "Downloading lxml-5.1.0-cp312-cp312-win_amd64.whl (3.9 MB)\n",
            "   ---------------------------------------- 0.0/3.9 MB ? eta -:--:--\n",
            "   ------------------ --------------------- 1.9/3.9 MB 59.5 MB/s eta 0:00:01\n",
            "   ---------------------------------- ----- 3.4/3.9 MB 43.5 MB/s eta 0:00:01\n",
            "   ---------------------------------------- 3.9/3.9 MB 35.8 MB/s eta 0:00:00\n",
            "Using cached multitasking-0.0.11-py3-none-any.whl (8.5 kB)\n",
            "Downloading pandas-2.2.1-cp312-cp312-win_amd64.whl (11.5 MB)\n",
            "   ---------------------------------------- 0.0/11.5 MB ? eta -:--:--\n",
            "   --- ------------------------------------ 1.1/11.5 MB 35.3 MB/s eta 0:00:01\n",
            "   ------- -------------------------------- 2.3/11.5 MB 29.0 MB/s eta 0:00:01\n",
            "   ---------- ----------------------------- 3.1/11.5 MB 24.8 MB/s eta 0:00:01\n",
            "   -------------- ------------------------- 4.2/11.5 MB 24.3 MB/s eta 0:00:01\n",
            "   ------------------ --------------------- 5.2/11.5 MB 25.8 MB/s eta 0:00:01\n",
            "   ---------------------- ----------------- 6.4/11.5 MB 25.6 MB/s eta 0:00:01\n",
            "   -------------------------- ------------- 7.6/11.5 MB 25.7 MB/s eta 0:00:01\n",
            "   ------------------------------ --------- 8.7/11.5 MB 25.2 MB/s eta 0:00:01\n",
            "   ---------------------------------- ----- 9.9/11.5 MB 25.4 MB/s eta 0:00:01\n",
            "   ---------------------------------------  11.4/11.5 MB 25.1 MB/s eta 0:00:01\n",
            "   ---------------------------------------- 11.5/11.5 MB 25.2 MB/s eta 0:00:00\n",
            "Using cached pytz-2024.1-py2.py3-none-any.whl (505 kB)\n",
            "Using cached soupsieve-2.5-py3-none-any.whl (36 kB)\n",
            "Using cached tzdata-2024.1-py2.py3-none-any.whl (345 kB)\n",
            "Building wheels for collected packages: frozendict, peewee\n",
            "  Building wheel for frozendict (pyproject.toml): started\n",
            "  Building wheel for frozendict (pyproject.toml): finished with status 'done'\n",
            "  Created wheel for frozendict: filename=frozendict-2.4.0-py3-none-any.whl size=15471 sha256=428dc37c716030af636ba1050941cb4ab7bd8a276fa0edf0368125a2c38a9d90\n",
            "  Stored in directory: c:\\users\\reidlai\\appdata\\local\\pip\\cache\\wheels\\f8\\24\\61\\a7327cee6da6ddddd619cddf13acfb4ec63606c69bbfe31486\n",
            "  Building wheel for peewee (pyproject.toml): started\n",
            "  Building wheel for peewee (pyproject.toml): finished with status 'done'\n",
            "  Created wheel for peewee: filename=peewee-3.17.1-py3-none-any.whl size=136948 sha256=79ba4aab04d3159322bc85f05b51d8ba37cb8840f2e673d2dd3b13e9cf9a2034\n",
            "  Stored in directory: c:\\users\\reidlai\\appdata\\local\\pip\\cache\\wheels\\fe\\58\\f4\\132ded03aa364dd5d2bbc2d02e1c2074a9b5012776d15fc2dc\n",
            "Successfully built frozendict peewee\n",
            "Installing collected packages: pytz, peewee, multitasking, appdirs, tzdata, soupsieve, lxml, html5lib, frozendict, pandas, beautifulsoup4, yfinance\n",
            "Successfully installed appdirs-1.4.4 beautifulsoup4-4.12.3 frozendict-2.4.0 html5lib-1.1 lxml-5.1.0 multitasking-0.0.11 pandas-2.2.1 peewee-3.17.1 pytz-2024.1 soupsieve-2.5 tzdata-2024.1 yfinance-0.2.37\n",
            "Installing required packages for local environment\n",
            "Requirement already satisfied: numpy in c:\\users\\reidlai\\miniconda3\\lib\\site-packages (1.26.4)\n",
            "Collecting matplotlib\n",
            "  Downloading matplotlib-3.8.3-cp312-cp312-win_amd64.whl.metadata (5.9 kB)\n",
            "Collecting contourpy>=1.0.1 (from matplotlib)\n",
            "  Downloading contourpy-1.2.0-cp312-cp312-win_amd64.whl.metadata (5.8 kB)\n",
            "Collecting cycler>=0.10 (from matplotlib)\n",
            "  Using cached cycler-0.12.1-py3-none-any.whl.metadata (3.8 kB)\n",
            "Collecting fonttools>=4.22.0 (from matplotlib)\n",
            "  Downloading fonttools-4.50.0-cp312-cp312-win_amd64.whl.metadata (162 kB)\n",
            "     ---------------------------------------- 0.0/162.6 kB ? eta -:--:--\n",
            "     ---------------------- ---------------- 92.2/162.6 kB 2.6 MB/s eta 0:00:01\n",
            "     -------------------------------------- 162.6/162.6 kB 3.2 MB/s eta 0:00:00\n",
            "Collecting kiwisolver>=1.3.1 (from matplotlib)\n",
            "  Downloading kiwisolver-1.4.5-cp312-cp312-win_amd64.whl.metadata (6.5 kB)\n",
            "Requirement already satisfied: numpy<2,>=1.21 in c:\\users\\reidlai\\miniconda3\\lib\\site-packages (from matplotlib) (1.26.4)\n",
            "Requirement already satisfied: packaging>=20.0 in c:\\users\\reidlai\\miniconda3\\lib\\site-packages (from matplotlib) (23.1)\n",
            "Collecting pillow>=8 (from matplotlib)\n",
            "  Downloading pillow-10.2.0-cp312-cp312-win_amd64.whl.metadata (9.9 kB)\n",
            "Collecting pyparsing>=2.3.1 (from matplotlib)\n",
            "  Using cached pyparsing-3.1.2-py3-none-any.whl.metadata (5.1 kB)\n",
            "Requirement already satisfied: python-dateutil>=2.7 in c:\\users\\reidlai\\miniconda3\\lib\\site-packages (from matplotlib) (2.9.0)\n",
            "Requirement already satisfied: six>=1.5 in c:\\users\\reidlai\\miniconda3\\lib\\site-packages (from python-dateutil>=2.7->matplotlib) (1.16.0)\n",
            "Downloading matplotlib-3.8.3-cp312-cp312-win_amd64.whl (7.6 MB)\n",
            "   ---------------------------------------- 0.0/7.6 MB ? eta -:--:--\n",
            "   --- ------------------------------------ 0.7/7.6 MB 13.9 MB/s eta 0:00:01\n",
            "   -------- ------------------------------- 1.7/7.6 MB 18.2 MB/s eta 0:00:01\n",
            "   -------------- ------------------------- 2.8/7.6 MB 22.0 MB/s eta 0:00:01\n",
            "   -------------------- ------------------- 4.0/7.6 MB 21.2 MB/s eta 0:00:01\n",
            "   --------------------------- ------------ 5.2/7.6 MB 20.8 MB/s eta 0:00:01\n",
            "   ---------------------------------- ----- 6.6/7.6 MB 22.1 MB/s eta 0:00:01\n",
            "   -------------------------------------- - 7.3/7.6 MB 21.2 MB/s eta 0:00:01\n",
            "   ---------------------------------------- 7.6/7.6 MB 20.4 MB/s eta 0:00:00\n",
            "Downloading contourpy-1.2.0-cp312-cp312-win_amd64.whl (187 kB)\n",
            "   ---------------------------------------- 0.0/187.7 kB ? eta -:--:--\n",
            "   --------------------------------------- 187.7/187.7 kB 11.1 MB/s eta 0:00:00\n",
            "Using cached cycler-0.12.1-py3-none-any.whl (8.3 kB)\n",
            "Downloading fonttools-4.50.0-cp312-cp312-win_amd64.whl (2.2 MB)\n",
            "   ---------------------------------------- 0.0/2.2 MB ? eta -:--:--\n",
            "   ---------------- ----------------------- 0.9/2.2 MB 28.4 MB/s eta 0:00:01\n",
            "   -------------------------------------- - 2.1/2.2 MB 26.9 MB/s eta 0:00:01\n",
            "   ---------------------------------------- 2.2/2.2 MB 23.0 MB/s eta 0:00:00\n",
            "Downloading kiwisolver-1.4.5-cp312-cp312-win_amd64.whl (56 kB)\n",
            "   ---------------------------------------- 0.0/56.0 kB ? eta -:--:--\n",
            "   ---------------------------------------- 56.0/56.0 kB ? eta 0:00:00\n",
            "Downloading pillow-10.2.0-cp312-cp312-win_amd64.whl (2.6 MB)\n",
            "   ---------------------------------------- 0.0/2.6 MB ? eta -:--:--\n",
            "   --------------- ------------------------ 1.0/2.6 MB 22.0 MB/s eta 0:00:01\n",
            "   ----------------------------- ---------- 2.0/2.6 MB 20.8 MB/s eta 0:00:01\n",
            "   ---------------------------------------- 2.6/2.6 MB 18.5 MB/s eta 0:00:00\n",
            "Using cached pyparsing-3.1.2-py3-none-any.whl (103 kB)\n",
            "Installing collected packages: pyparsing, pillow, kiwisolver, fonttools, cycler, contourpy, matplotlib\n",
            "Successfully installed contourpy-1.2.0 cycler-0.12.1 fonttools-4.50.0 kiwisolver-1.4.5 matplotlib-3.8.3 pillow-10.2.0 pyparsing-3.1.2\n",
            "Requirement already satisfied: pandas in c:\\users\\reidlai\\miniconda3\\lib\\site-packages (2.2.1)\n",
            "Requirement already satisfied: numpy<2,>=1.26.0 in c:\\users\\reidlai\\miniconda3\\lib\\site-packages (from pandas) (1.26.4)\n",
            "Requirement already satisfied: python-dateutil>=2.8.2 in c:\\users\\reidlai\\miniconda3\\lib\\site-packages (from pandas) (2.9.0)\n",
            "Requirement already satisfied: pytz>=2020.1 in c:\\users\\reidlai\\miniconda3\\lib\\site-packages (from pandas) (2024.1)\n",
            "Requirement already satisfied: tzdata>=2022.7 in c:\\users\\reidlai\\miniconda3\\lib\\site-packages (from pandas) (2024.1)\n",
            "Requirement already satisfied: six>=1.5 in c:\\users\\reidlai\\miniconda3\\lib\\site-packages (from python-dateutil>=2.8.2->pandas) (1.16.0)\n",
            "Collecting seaborn\n",
            "  Using cached seaborn-0.13.2-py3-none-any.whl.metadata (5.4 kB)\n",
            "Requirement already satisfied: numpy!=1.24.0,>=1.20 in c:\\users\\reidlai\\miniconda3\\lib\\site-packages (from seaborn) (1.26.4)\n",
            "Requirement already satisfied: pandas>=1.2 in c:\\users\\reidlai\\miniconda3\\lib\\site-packages (from seaborn) (2.2.1)\n",
            "Requirement already satisfied: matplotlib!=3.6.1,>=3.4 in c:\\users\\reidlai\\miniconda3\\lib\\site-packages (from seaborn) (3.8.3)\n",
            "Requirement already satisfied: contourpy>=1.0.1 in c:\\users\\reidlai\\miniconda3\\lib\\site-packages (from matplotlib!=3.6.1,>=3.4->seaborn) (1.2.0)\n",
            "Requirement already satisfied: cycler>=0.10 in c:\\users\\reidlai\\miniconda3\\lib\\site-packages (from matplotlib!=3.6.1,>=3.4->seaborn) (0.12.1)\n",
            "Requirement already satisfied: fonttools>=4.22.0 in c:\\users\\reidlai\\miniconda3\\lib\\site-packages (from matplotlib!=3.6.1,>=3.4->seaborn) (4.50.0)\n",
            "Requirement already satisfied: kiwisolver>=1.3.1 in c:\\users\\reidlai\\miniconda3\\lib\\site-packages (from matplotlib!=3.6.1,>=3.4->seaborn) (1.4.5)\n",
            "Requirement already satisfied: packaging>=20.0 in c:\\users\\reidlai\\miniconda3\\lib\\site-packages (from matplotlib!=3.6.1,>=3.4->seaborn) (23.1)\n",
            "Requirement already satisfied: pillow>=8 in c:\\users\\reidlai\\miniconda3\\lib\\site-packages (from matplotlib!=3.6.1,>=3.4->seaborn) (10.2.0)\n",
            "Requirement already satisfied: pyparsing>=2.3.1 in c:\\users\\reidlai\\miniconda3\\lib\\site-packages (from matplotlib!=3.6.1,>=3.4->seaborn) (3.1.2)\n",
            "Requirement already satisfied: python-dateutil>=2.7 in c:\\users\\reidlai\\miniconda3\\lib\\site-packages (from matplotlib!=3.6.1,>=3.4->seaborn) (2.9.0)\n",
            "Requirement already satisfied: pytz>=2020.1 in c:\\users\\reidlai\\miniconda3\\lib\\site-packages (from pandas>=1.2->seaborn) (2024.1)\n",
            "Requirement already satisfied: tzdata>=2022.7 in c:\\users\\reidlai\\miniconda3\\lib\\site-packages (from pandas>=1.2->seaborn) (2024.1)\n",
            "Requirement already satisfied: six>=1.5 in c:\\users\\reidlai\\miniconda3\\lib\\site-packages (from python-dateutil>=2.7->matplotlib!=3.6.1,>=3.4->seaborn) (1.16.0)\n",
            "Using cached seaborn-0.13.2-py3-none-any.whl (294 kB)\n",
            "Installing collected packages: seaborn\n",
            "Successfully installed seaborn-0.13.2\n",
            "Common required packages installed\n"
          ]
        }
      ],
      "source": [
        "!pip install --upgrade pip\n",
        "!pip install mpi4py\n",
        "!pip install opendatasets\n",
        "!pip install yfinance\n",
        "\n",
        "if not params[\"in_colab\"]:\n",
        "    print(\"Installing required packages for local environment\")\n",
        "\n",
        "    !pip install numpy\n",
        "    !pip install matplotlib\n",
        "    !pip install pandas\n",
        "    !pip install seaborn\n",
        "\n",
        "    print(\"Common required packages installed\")\n"
      ]
    },
    {
      "cell_type": "markdown",
      "metadata": {
        "id": "hV62W2BwCIXZ"
      },
      "source": [
        "Check numba info"
      ]
    },
    {
      "cell_type": "code",
      "execution_count": 12,
      "metadata": {
        "colab": {
          "base_uri": "https://localhost:8080/"
        },
        "id": "CWs90Df-CIXZ",
        "outputId": "5543c935-71df-4114-9e3c-5fd2b25e0b86"
      },
      "outputs": [
        {
          "name": "stdout",
          "output_type": "stream",
          "text": [
            "System info:\n",
            "--------------------------------------------------------------------------------\n",
            "__Time Stamp__\n",
            "Report started (local time)                   : 2024-03-22 07:10:51.208805\n",
            "UTC start time                                : 2024-03-22 11:10:51.208805\n",
            "Running time (s)                              : 2.556583\n",
            "\n",
            "__Hardware Information__\n",
            "Machine                                       : AMD64\n",
            "CPU Name                                      : rocketlake\n",
            "CPU Count                                     : 12\n",
            "Number of accessible CPUs                     : 12\n",
            "List of accessible CPUs cores                 : 0 1 2 3 4 5 6 7 8 9 10 11\n",
            "CFS Restrictions (CPUs worth of runtime)      : None\n",
            "\n",
            "CPU Features                                  : 64bit adx aes avx avx2\n",
            "                                                avx512bitalg avx512bw avx512cd\n",
            "                                                avx512dq avx512f avx512ifma\n",
            "                                                avx512vbmi avx512vbmi2 avx512vl\n",
            "                                                avx512vnni avx512vpopcntdq bmi\n",
            "                                                bmi2 clflushopt cmov crc32 cx16\n",
            "                                                cx8 f16c fma fsgsbase fxsr gfni\n",
            "                                                invpcid lzcnt mmx movbe pclmul\n",
            "                                                popcnt prfchw rdpid rdrnd rdseed\n",
            "                                                sahf sha sse sse2 sse3 sse4.1\n",
            "                                                sse4.2 ssse3 vaes vpclmulqdq xsave\n",
            "                                                xsavec xsaveopt xsaves\n",
            "\n",
            "Memory Total (MB)                             : 32649\n",
            "Memory Available (MB)                         : 16099\n",
            "\n",
            "__OS Information__\n",
            "Platform Name                                 : Windows-11-10.0.22631-SP0\n",
            "Platform Release                              : 11\n",
            "OS Name                                       : Windows\n",
            "OS Version                                    : 10.0.22631\n",
            "OS Specific Version                           : 11 10.0.22631 SP0 Multiprocessor Free\n",
            "Libc Version                                  : ?\n",
            "\n",
            "__Python Information__\n",
            "Python Compiler                               : MSC v.1937 64 bit (AMD64)\n",
            "Python Implementation                         : CPython\n",
            "Python Version                                : 3.12.2\n",
            "Python Locale                                 : en_CA.cp1252\n",
            "\n",
            "__Numba Toolchain Versions__\n",
            "Numba Version                                 : 0.59.0\n",
            "llvmlite Version                              : 0.42.0\n",
            "\n",
            "__LLVM Information__\n",
            "LLVM Version                                  : 14.0.6\n",
            "\n",
            "__CUDA Information__\n",
            "CUDA Device Initialized                       : False\n",
            "CUDA Driver Version                           : ?\n",
            "CUDA Runtime Version                          : ?\n",
            "CUDA NVIDIA Bindings Available                : ?\n",
            "CUDA NVIDIA Bindings In Use                   : ?\n",
            "CUDA Minor Version Compatibility Available    : ?\n",
            "CUDA Minor Version Compatibility Needed       : ?\n",
            "CUDA Minor Version Compatibility In Use       : ?\n",
            "CUDA Detect Output:\n",
            "None\n",
            "CUDA Libraries Test Output:\n",
            "None\n",
            "\n",
            "__NumPy Information__\n",
            "NumPy Version                                 : 1.26.4\n",
            "NumPy Supported SIMD features                 : ('MMX', 'SSE', 'SSE2', 'SSE3', 'SSSE3', 'SSE41', 'POPCNT', 'SSE42', 'AVX', 'F16C', 'FMA3', 'AVX2', 'AVX512F', 'AVX512CD', 'AVX512VPOPCNTDQ', 'AVX512VL', 'AVX512BW', 'AVX512DQ', 'AVX512VNNI', 'AVX512IFMA', 'AVX512VBMI', 'AVX512VBMI2', 'AVX512BITALG', 'AVX512_SKX', 'AVX512_CLX', 'AVX512_CNL', 'AVX512_ICL')\n",
            "NumPy Supported SIMD dispatch                 : ('SSSE3', 'SSE41', 'POPCNT', 'SSE42', 'AVX', 'F16C', 'FMA3', 'AVX2', 'AVX512F', 'AVX512CD', 'AVX512_SKX', 'AVX512_CLX', 'AVX512_CNL', 'AVX512_ICL')\n",
            "NumPy Supported SIMD baseline                 : ('SSE', 'SSE2', 'SSE3')\n",
            "NumPy AVX512_SKX support detected             : True\n",
            "\n",
            "__SVML Information__\n",
            "SVML State, config.USING_SVML                 : False\n",
            "SVML Library Loaded                           : False\n",
            "llvmlite Using SVML Patched LLVM              : False\n",
            "SVML Operational                              : False\n",
            "\n",
            "__Threading Layer Information__\n",
            "TBB Threading Layer Available                 : True\n",
            "+-->TBB imported successfully.\n",
            "OpenMP Threading Layer Available              : True\n",
            "+-->Vendor: MS\n",
            "Workqueue Threading Layer Available           : True\n",
            "+-->Workqueue imported successfully.\n",
            "\n",
            "__Numba Environment Variable Information__\n",
            "None found.\n",
            "\n",
            "__Conda Information__\n",
            "Conda Build                                   : not installed\n",
            "Conda Env                                     : 24.1.2\n",
            "Conda Platform                                : win-64\n",
            "Conda Python Version                          : 3.12.2.final.0\n",
            "Conda Root Writable                           : True\n",
            "\n",
            "__Installed Packages__\n",
            "appdirs                   1.4.4                    pypi_0    pypi\n",
            "archspec                  0.2.1              pyhd3eb1b0_0  \n",
            "asttokens                 2.4.1              pyhd8ed1ab_0    conda-forge\n",
            "beautifulsoup4            4.12.3                   pypi_0    pypi\n",
            "blas                      1.0                         mkl  \n",
            "bleach                    6.1.0                    pypi_0    pypi\n",
            "boltons                   23.0.0          py312haa95532_0  \n",
            "brotli-python             1.0.9           py312hd77b12b_7  \n",
            "bzip2                     1.0.8                he774522_0  \n",
            "ca-certificates           2024.2.2             h56e8100_0    conda-forge\n",
            "certifi                   2024.2.2           pyhd8ed1ab_0    conda-forge\n",
            "cffi                      1.16.0          py312h2bbff1b_0  \n",
            "charset-normalizer        2.0.4              pyhd3eb1b0_0  \n",
            "click                     8.1.7                    pypi_0    pypi\n",
            "colorama                  0.4.6           py312haa95532_0  \n",
            "comm                      0.2.2              pyhd8ed1ab_0    conda-forge\n",
            "conda                     24.1.2          py312h2e8e312_0    conda-forge\n",
            "conda-content-trust       0.2.0           py312haa95532_0  \n",
            "conda-libmamba-solver     23.12.0            pyhd3eb1b0_1  \n",
            "conda-package-handling    2.2.0           py312haa95532_0  \n",
            "conda-package-streaming   0.9.0           py312haa95532_0  \n",
            "console_shortcut_miniconda 0.1.1                haa95532_1  \n",
            "contourpy                 1.2.0                    pypi_0    pypi\n",
            "cryptography              41.0.7          py312h89fc84f_0  \n",
            "cycler                    0.12.1                   pypi_0    pypi\n",
            "debugpy                   1.8.1           py312h53d5487_0    conda-forge\n",
            "decorator                 5.1.1              pyhd8ed1ab_0    conda-forge\n",
            "distro                    1.8.0           py312haa95532_0  \n",
            "exceptiongroup            1.2.0              pyhd8ed1ab_2    conda-forge\n",
            "executing                 2.0.1              pyhd8ed1ab_0    conda-forge\n",
            "expat                     2.5.0                hd77b12b_0  \n",
            "fmt                       9.1.0                h6d14046_0  \n",
            "fonttools                 4.50.0                   pypi_0    pypi\n",
            "frozendict                2.4.0                    pypi_0    pypi\n",
            "html5lib                  1.1                      pypi_0    pypi\n",
            "idna                      3.4             py312haa95532_0  \n",
            "importlib-metadata        7.1.0              pyha770c72_0    conda-forge\n",
            "importlib_metadata        7.1.0                hd8ed1ab_0    conda-forge\n",
            "intel-openmp              2023.1.0         h59b6b97_46320  \n",
            "ipykernel                 6.29.3             pyha63f2e9_0    conda-forge\n",
            "ipython                   8.22.2             pyh7428d3b_0    conda-forge\n",
            "jedi                      0.19.1             pyhd8ed1ab_0    conda-forge\n",
            "jsonpatch                 1.32               pyhd3eb1b0_0  \n",
            "jsonpointer               2.1                pyhd3eb1b0_0  \n",
            "jupyter_client            8.6.1              pyhd8ed1ab_0    conda-forge\n",
            "jupyter_core              5.7.2           py312h2e8e312_0    conda-forge\n",
            "kaggle                    1.6.6                    pypi_0    pypi\n",
            "kiwisolver                1.4.5                    pypi_0    pypi\n",
            "libarchive                3.6.2                hb62f4d4_2  \n",
            "libcurl                   8.5.0                h86230a5_0  \n",
            "libexpat                  2.5.0                h63175ca_1    conda-forge\n",
            "libffi                    3.4.4                hd77b12b_0  \n",
            "libiconv                  1.16                 h2bbff1b_2  \n",
            "libmamba                  1.5.3                hcd6fe79_0  \n",
            "libmambapy                1.5.3           py312h77c03ed_0  \n",
            "libsodium                 1.0.18               h8d14728_1    conda-forge\n",
            "libsolv                   0.7.24               h23ce68f_0  \n",
            "libsqlite                 3.45.2               hcfcfb64_0    conda-forge\n",
            "libssh2                   1.10.0               he2ea4bf_2  \n",
            "libxml2                   2.10.4               h0ad7f3c_1  \n",
            "libzlib                   1.2.13               hcfcfb64_5    conda-forge\n",
            "llvmlite                  0.42.0          py312hf2fb9eb_0  \n",
            "lxml                      5.1.0                    pypi_0    pypi\n",
            "lz4-c                     1.9.4                h2bbff1b_0  \n",
            "m2w64-gcc-libgfortran     5.3.0                         6    conda-forge\n",
            "m2w64-gcc-libs            5.3.0                         7    conda-forge\n",
            "m2w64-gcc-libs-core       5.3.0                         7    conda-forge\n",
            "m2w64-gmp                 6.1.0                         2    conda-forge\n",
            "m2w64-libwinpthread-git   5.0.0.4634.697f757               2    conda-forge\n",
            "matplotlib                3.8.3                    pypi_0    pypi\n",
            "matplotlib-inline         0.1.6              pyhd8ed1ab_0    conda-forge\n",
            "menuinst                  2.0.2           py312hd77b12b_0  \n",
            "mkl                       2023.1.0         h6b88ed4_46358  \n",
            "mkl-service               2.4.0           py312h2bbff1b_1  \n",
            "mkl_fft                   1.3.8           py312h2bbff1b_0  \n",
            "mkl_random                1.2.4           py312h59b6b97_0  \n",
            "mpi                       1.0                       msmpi    conda-forge\n",
            "mpi4py                    3.1.5           py312h1bc3dfc_1    conda-forge\n",
            "msmpi                     10.1.1               h3502643_7    conda-forge\n",
            "msys2-conda-epoch         20160418                      1    conda-forge\n",
            "multitasking              0.0.11                   pypi_0    pypi\n",
            "nest-asyncio              1.6.0              pyhd8ed1ab_0    conda-forge\n",
            "numba                     0.59.0          py312hc7c4135_0  \n",
            "numpy                     1.26.4          py312hfd52020_0  \n",
            "numpy-base                1.26.4          py312h4dde369_0  \n",
            "opendatasets              0.1.22                   pypi_0    pypi\n",
            "openssl                   3.2.1                hcfcfb64_1    conda-forge\n",
            "packaging                 23.1            py312haa95532_0  \n",
            "pandas                    2.2.1                    pypi_0    pypi\n",
            "parso                     0.8.3              pyhd8ed1ab_0    conda-forge\n",
            "pcre2                     10.42                h0ff8eda_0  \n",
            "peewee                    3.17.1                   pypi_0    pypi\n",
            "pickleshare               0.7.5                   py_1003    conda-forge\n",
            "pillow                    10.2.0                   pypi_0    pypi\n",
            "pip                       23.3.1          py312haa95532_0  \n",
            "platformdirs              3.10.0          py312haa95532_0  \n",
            "pluggy                    1.0.0           py312haa95532_1  \n",
            "powershell_shortcut_miniconda 0.0.1                haa95532_1  \n",
            "prompt-toolkit            3.0.42             pyha770c72_0    conda-forge\n",
            "psutil                    5.9.8           py312he70551f_0    conda-forge\n",
            "pure_eval                 0.2.2              pyhd8ed1ab_0    conda-forge\n",
            "pybind11-abi              4                    hd3eb1b0_1  \n",
            "pycosat                   0.6.6           py312h2bbff1b_0  \n",
            "pycparser                 2.21               pyhd3eb1b0_0  \n",
            "pygments                  2.17.2             pyhd8ed1ab_0    conda-forge\n",
            "pyparsing                 3.1.2                    pypi_0    pypi\n",
            "pysocks                   1.7.1           py312haa95532_0  \n",
            "python                    3.12.2          h2628c8c_0_cpython    conda-forge\n",
            "python-dateutil           2.9.0              pyhd8ed1ab_0    conda-forge\n",
            "python-slugify            8.0.4                    pypi_0    pypi\n",
            "python_abi                3.12                    4_cp312    conda-forge\n",
            "pytz                      2024.1                   pypi_0    pypi\n",
            "pywin32                   306             py312h53d5487_2    conda-forge\n",
            "pyzmq                     25.1.2          py312h1ac6f91_0    conda-forge\n",
            "reproc                    14.2.4               hd77b12b_1  \n",
            "reproc-cpp                14.2.4               hd77b12b_1  \n",
            "requests                  2.31.0          py312haa95532_1  \n",
            "ruamel.yaml               0.17.21         py312h2bbff1b_0  \n",
            "seaborn                   0.13.2                   pypi_0    pypi\n",
            "setuptools                68.2.2          py312haa95532_0  \n",
            "six                       1.16.0             pyh6c4a22f_0    conda-forge\n",
            "soupsieve                 2.5                      pypi_0    pypi\n",
            "sqlite                    3.41.2               h2bbff1b_0  \n",
            "stack_data                0.6.2              pyhd8ed1ab_0    conda-forge\n",
            "tbb                       2021.8.0             h59b6b97_0  \n",
            "text-unidecode            1.3                      pypi_0    pypi\n",
            "tk                        8.6.13               h5226925_1    conda-forge\n",
            "tornado                   6.4             py312he70551f_0    conda-forge\n",
            "tqdm                      4.65.0          py312hfc267ef_0  \n",
            "traitlets                 5.14.2             pyhd8ed1ab_0    conda-forge\n",
            "truststore                0.8.0           py312haa95532_0  \n",
            "typing_extensions         4.10.0             pyha770c72_0    conda-forge\n",
            "tzdata                    2024.1                   pypi_0    pypi\n",
            "ucrt                      10.0.22621.0         h57928b3_0    conda-forge\n",
            "urllib3                   2.1.0           py312haa95532_1  \n",
            "vc                        14.2                 h21ff451_1  \n",
            "vc14_runtime              14.38.33130         h82b7239_18    conda-forge\n",
            "vs2015_runtime            14.38.33130         hcb4865c_18    conda-forge\n",
            "wcwidth                   0.2.13             pyhd8ed1ab_0    conda-forge\n",
            "webencodings              0.5.1                    pypi_0    pypi\n",
            "wheel                     0.41.2          py312haa95532_0  \n",
            "win_inet_pton             1.1.0           py312haa95532_0  \n",
            "xz                        5.4.5                h8cc25b3_0  \n",
            "yaml-cpp                  0.8.0                hd77b12b_0  \n",
            "yfinance                  0.2.37                   pypi_0    pypi\n",
            "zeromq                    4.3.5                h63175ca_1    conda-forge\n",
            "zipp                      3.17.0             pyhd8ed1ab_0    conda-forge\n",
            "zlib                      1.2.13               hcfcfb64_5    conda-forge\n",
            "zstandard                 0.19.0          py312h2bbff1b_0  \n",
            "zstd                      1.5.5                hd43e919_0  \n",
            "\n",
            "No errors reported.\n",
            "\n",
            "\n",
            "__Warning log__\n",
            "Warning (cuda): CUDA device initialisation problem. Message:Error at driver init: Call to cuInit results in CUDA_ERROR_NO_DEVICE (100)\n",
            "Exception class: <class 'numba.cuda.cudadrv.error.CudaSupportError'>\n",
            "--------------------------------------------------------------------------------\n",
            "If requested, please copy and paste the information between\n",
            "the dashed (----) lines, or from a given specific section as\n",
            "appropriate.\n",
            "\n",
            "=============================================================\n",
            "IMPORTANT: Please ensure that you are happy with sharing the\n",
            "contents of the information present, any information that you\n",
            "wish to keep private you should remove before sharing.\n",
            "=============================================================\n",
            "\n"
          ]
        }
      ],
      "source": [
        "!numba -s"
      ]
    },
    {
      "cell_type": "markdown",
      "metadata": {
        "id": "zCDTeBW8xxj6"
      },
      "source": [
        "### Import required packages"
      ]
    },
    {
      "cell_type": "code",
      "execution_count": 13,
      "metadata": {
        "id": "5xQvKYqIxxj6"
      },
      "outputs": [],
      "source": [
        "# import datetime\n",
        "import csv\n",
        "import logging\n",
        "import numpy as np\n",
        "import opendatasets as od\n",
        "import os\n",
        "import pandas as pd\n",
        "import random\n",
        "import time\n",
        "import yfinance as yf\n",
        "\n",
        "from datetime import datetime, timedelta\n",
        "\n",
        "if params[\"mpi_installed\"]:\n",
        "    from mpi4py import MPI\n",
        "\n",
        "if params[\"cuda_installed\"]:\n",
        "    from numba import cuda, float32\n"
      ]
    },
    {
      "cell_type": "markdown",
      "metadata": {
        "id": "sMUStEeNxxj6"
      },
      "source": [
        "## S&P 500 Constituents Dataset Download\n",
        "\n",
        "I will first need to download S&P 500 constituents from my Kaggle repository"
      ]
    },
    {
      "cell_type": "code",
      "execution_count": 14,
      "metadata": {
        "colab": {
          "base_uri": "https://localhost:8080/"
        },
        "id": "Y2hlBaVNxxj6",
        "outputId": "81bcc3f9-c883-4ac6-e6dd-0e89c2f259fd"
      },
      "outputs": [
        {
          "name": "stdout",
          "output_type": "stream",
          "text": [
            "Skipping, found downloaded files in \".\\s-and-p-500-constituents\" (use force=True to force download)\n"
          ]
        }
      ],
      "source": [
        "od.download(\"https://www.kaggle.com/datasets/reidlai/s-and-p-500-constituents\")"
      ]
    },
    {
      "cell_type": "markdown",
      "metadata": {
        "id": "PzAJlIr2enXn"
      },
      "source": [
        "## Stock Price History Download"
      ]
    },
    {
      "cell_type": "code",
      "execution_count": 15,
      "metadata": {
        "id": "ZcNOK2scxxj6"
      },
      "outputs": [],
      "source": [
        "class Row:\n",
        "    def __init__(self, timestamp, open, high, low, close, adjclose, volume):\n",
        "        self.timestamp = timestamp\n",
        "        self.open = open\n",
        "        self.high = high\n",
        "        self.low = low\n",
        "        self.close = close\n",
        "        self.adjclose = adjclose\n",
        "        self.volume = volume\n",
        "\n",
        "def get_stock_price_history_quotes(stock_symbol, start_date, end_date):\n",
        "    start_date = datetime.strptime(start_date, \"%Y-%m-%dT%H:%M:%S\")\n",
        "    end_date = datetime.strptime(end_date, \"%Y-%m-%dT%H:%M:%S\")\n",
        "\n",
        "    try:\n",
        "        data = yf.download(stock_symbol, start=start_date, end=end_date)\n",
        "    except Exception as e:\n",
        "        logging.error(f\"Symbol not found: {stock_symbol}\")\n",
        "        return []\n",
        "\n",
        "    quotes = []\n",
        "    for index, row in data.iterrows():\n",
        "        quote = Row(index, row['Open'], row['High'], row['Low'], row['Close'], row['Adj Close'], row['Volume'])\n",
        "        quotes.append(quote)\n",
        "\n",
        "    quotes.sort(key=lambda x: x.timestamp)\n",
        "\n",
        "    # convert quotes into dataframe\n",
        "    quotes_df = pd.DataFrame([vars(quote) for quote in quotes])\n",
        "    # add symbol column\n",
        "    quotes_df['symbol'] = stock_symbol\n",
        "    return quotes_df"
      ]
    },
    {
      "cell_type": "markdown",
      "metadata": {
        "id": "GDHJvgZkenXn"
      },
      "source": [
        "## Technical Analysis"
      ]
    },
    {
      "cell_type": "markdown",
      "metadata": {
        "id": "ejwGjXFmxxj7"
      },
      "source": [
        "### CPU based technical indicator funtions"
      ]
    },
    {
      "cell_type": "code",
      "execution_count": 16,
      "metadata": {
        "id": "Br8Hly-uxxj7"
      },
      "outputs": [],
      "source": [
        "def ema(days, values):\n",
        "    alpha = 2 / (days + 1)\n",
        "    ema_values = [values[0]]  # start with the first value\n",
        "    for value in values[1:]:\n",
        "        ema_values.append(alpha * value + (1 - alpha) * ema_values[-1])\n",
        "    return ema_values[-1]\n",
        "\n",
        "def rsi(days, values):\n",
        "    gains = []\n",
        "    losses = []\n",
        "    for i in range(1, len(values)):\n",
        "        change = values[i] - values[i - 1]\n",
        "        if change > 0:\n",
        "            gains.append(change)\n",
        "            losses.append(0)\n",
        "        else:\n",
        "            gains.append(0)\n",
        "            losses.append(-change)\n",
        "    avg_gain = sum(gains[:days]) / days\n",
        "    avg_loss = sum(losses[:days]) / days\n",
        "    rs = avg_gain / avg_loss if avg_loss != 0 else 0\n",
        "    rsi_value = 100 - (100 / (1 + rs))\n",
        "    return rsi_value\n",
        "\n",
        "def macd(values, short_period=12, long_period=26, signal_period=9):\n",
        "    ema_short = ema(short_period, values)\n",
        "    ema_long = ema(long_period, values)\n",
        "    macd_line = np.array(ema_short) - np.array(ema_long)\n",
        "    signal_line = ema(signal_period, macd_line.tolist())\n",
        "    return macd_line, signal_line"
      ]
    },
    {
      "cell_type": "markdown",
      "metadata": {
        "id": "-iZdPy_Qxxj7"
      },
      "source": [
        "### GPU based technical indicator funtions"
      ]
    },
    {
      "cell_type": "code",
      "execution_count": 17,
      "metadata": {
        "id": "UneguZR7xxj7"
      },
      "outputs": [],
      "source": [
        "if params[\"cuda_installed\"]:\n",
        "\n",
        "    @cuda.jit\n",
        "    def ema_cuda(values, ema_values, days, n, m):\n",
        "        idx = cuda.threadIdx.x + cuda.blockDim.x * cuda.blockIdx.x\n",
        "        if idx < n:\n",
        "            alpha = 2.0 / (days + 1)\n",
        "            for j in range(m):\n",
        "                if j == 0:\n",
        "                    ema_values[idx * m] = values[idx * m]  # start with the first value\n",
        "                else:\n",
        "                    ema_values[idx * m + j] = alpha * values[idx * m + j] + (1 - alpha) * ema_values[idx * m + j - 1]\n",
        "\n",
        "    @cuda.jit\n",
        "    def compute_gains_losses_cuda(values, gains, losses, n):\n",
        "        idx = cuda.threadIdx.x + cuda.blockDim.x * cuda.blockIdx.x\n",
        "        if idx < n:\n",
        "            change = values[idx] - values[idx - 1]\n",
        "            gains[idx] = max(change, 0)\n",
        "            losses[idx] = max(-change, 0)\n",
        "\n",
        "    @cuda.jit\n",
        "    def macd_cuda(values, macd_values, signal_values, short_period, long_period, signal_period, n, m):\n",
        "        idx = cuda.threadIdx.x + cuda.blockDim.x * cuda.blockIdx.x\n",
        "        if idx < n:\n",
        "            alpha_short = 2.0 / (short_period + 1)\n",
        "            alpha_long = 2.0 / (long_period + 1)\n",
        "            alpha_signal = 2.0 / (signal_period + 1)\n",
        "            ema_short = 0\n",
        "            ema_long = 0\n",
        "            ema_signal = 0\n",
        "            for j in range(m):\n",
        "                if j < short_period:\n",
        "                    ema_short = alpha_short * values[idx * m + j] + (1 - alpha_short) * ema_short\n",
        "                if j < long_period:\n",
        "                    ema_long = alpha_long * values[idx * m + j] + (1 - alpha_long) * ema_long\n",
        "                macd_val = ema_short - ema_long\n",
        "                if j < signal_period:\n",
        "                    ema_signal = alpha_signal * macd_val + (1 - alpha_signal) * ema_signal\n",
        "                macd_values[idx * m + j] = macd_val\n",
        "                signal_values[idx * m + j] = ema_signal\n",
        "\n",
        "    def ema_gpu(values, days):\n",
        "        if values.ndim == 1:\n",
        "            n = values.shape[0]\n",
        "            m = 1\n",
        "        else:\n",
        "            n, m = values.shape\n",
        "\n",
        "        ema_values = np.empty_like(values)\n",
        "\n",
        "        block_size = 256\n",
        "        grid_size = (n + block_size - 1) // block_size\n",
        "\n",
        "        values_device = cuda.to_device(values)\n",
        "        ema_values_device = cuda.to_device(ema_values)\n",
        "\n",
        "        ema_cuda[grid_size, block_size](values_device, ema_values_device, days, n, m)\n",
        "        ema_values = ema_values_device.copy_to_host()\n",
        "\n",
        "        return ema_values\n",
        "\n",
        "    def rsi_gpu(days, values):\n",
        "        n = len(values)\n",
        "        gains = np.empty_like(values)\n",
        "        losses = np.empty_like(values)\n",
        "        block_size = 256\n",
        "        grid_size = (n + block_size - 1) // block_size\n",
        "\n",
        "        values_device = cuda.to_device(values)\n",
        "        gains_device = cuda.to_device(gains)\n",
        "        losses_device = cuda.to_device(losses)\n",
        "\n",
        "        compute_gains_losses_cuda[grid_size, block_size](values_device, gains_device, losses_device, n)\n",
        "        gains = gains_device.copy_to_host()\n",
        "        losses = losses_device.copy_to_host()\n",
        "\n",
        "        avg_gain = np.sum(gains[:days]) / days\n",
        "        avg_loss = np.sum(losses[:days]) / days\n",
        "        rs = avg_gain / avg_loss if avg_loss != 0 else 0\n",
        "        rsi_value = 100 - (100 / (1 + rs))\n",
        "        return rsi_value\n",
        "\n",
        "    def macd_gpu(values, short_period=12, long_period=26, signal_period=9):\n",
        "        # n, m = values.shape\n",
        "        n = len(values)\n",
        "        m = 1\n",
        "        macd_values = np.empty_like(values)\n",
        "        signal_values = np.empty_like(values)\n",
        "\n",
        "        block_size = 256\n",
        "        grid_size = (n + block_size - 1) // block_size\n",
        "\n",
        "        values_device = cuda.to_device(values)\n",
        "        macd_values_device = cuda.to_device(macd_values)\n",
        "        signal_values_device = cuda.to_device(signal_values)\n",
        "\n",
        "\n",
        "        macd_cuda[grid_size, block_size](values_device, macd_values_device, signal_values_device, short_period, long_period, signal_period, n, m)\n",
        "        macd_values = macd_values_device.copy_to_host()\n",
        "        signal_values = signal_values_device.copy_to_host()\n",
        "\n",
        "        return macd_values, signal_values"
      ]
    },
    {
      "cell_type": "markdown",
      "metadata": {
        "id": "3WLE_23ienXn"
      },
      "source": [
        "## Core Main Program"
      ]
    },
    {
      "cell_type": "markdown",
      "metadata": {
        "id": "6yK1ez7PCIXf"
      },
      "source": [
        "### Read CSV files"
      ]
    },
    {
      "cell_type": "code",
      "execution_count": 18,
      "metadata": {
        "id": "jkdyQKBkCIXf"
      },
      "outputs": [],
      "source": [
        "# Read symbols from the CSV file\n",
        "def read_symbols_from_csvfile(csvfile_path):\n",
        "    symbols = []\n",
        "    with open(csvfile_path, 'r') as csvfile:\n",
        "        reader = csv.reader(csvfile)\n",
        "        next(reader)  # Skip the header\n",
        "        for row in reader:\n",
        "            symbols.append(row[0])  # Assuming the symbol is the first column\n",
        "    return symbols"
      ]
    },
    {
      "cell_type": "markdown",
      "metadata": {
        "id": "srR3kfUACIXf"
      },
      "source": [
        "### Obtain GPU lock"
      ]
    },
    {
      "cell_type": "code",
      "execution_count": 19,
      "metadata": {
        "id": "EE-KNl3yCIXf"
      },
      "outputs": [],
      "source": [
        "# Obtain available GPU and lock it; otherwise wait for available GPU\n",
        "def obtain_available_gpu_lock(locks, params, rank, win):\n",
        "    if params[\"mpi_installed\"]:\n",
        "\n",
        "        # Wait for available GPU\n",
        "        while True:\n",
        "            for i in range(len(locks)):\n",
        "                # lock_status = locks[i].Get_attr(MPI.WIN_LOCK_STATUS)\n",
        "                # if lock_status == 0:\n",
        "                #     locks[i].lock(i)\n",
        "                #     return i\n",
        "                win.Lock(i)\n",
        "                if locks[i] == -1:\n",
        "                    locks[i] = rank\n",
        "                    return i\n",
        "                win.Unlock(i)\n",
        "            # Sleep for random time to avoid busy waiting\n",
        "            time.sleep(random.choice([0.1, 0.2, 0.3, 0.5, 0.7]))\n",
        "    return None"
      ]
    },
    {
      "cell_type": "markdown",
      "metadata": {
        "id": "7ikXvzVPCIXf"
      },
      "source": [
        "### Release GPU Lock"
      ]
    },
    {
      "cell_type": "code",
      "execution_count": 20,
      "metadata": {
        "id": "HBrP7cDkCIXf"
      },
      "outputs": [],
      "source": [
        "def release_gpu_lock(locks, gpu_index, params, rank, win):\n",
        "    if params[\"mpi_installed\"]:\n",
        "        if locks[gpu_index] == rank:\n",
        "            locks[gpu_index] = -1\n",
        "            win.Unlock(gpu_index)\n",
        "            return True\n",
        "        return False\n",
        "    else:\n",
        "        return True"
      ]
    },
    {
      "cell_type": "markdown",
      "metadata": {
        "id": "fsTdN5KUCIXf"
      },
      "source": [
        "### Core Logic"
      ]
    },
    {
      "cell_type": "code",
      "execution_count": 21,
      "metadata": {
        "id": "lNTSBjMDCIXf"
      },
      "outputs": [],
      "source": [
        "def core_logic(symbols, start_date, end_date, rank, size, params, locks, win):\n",
        "\n",
        "    results = pd.DataFrame()\n",
        "    # Fetch stock price history quotes using the local symbols\n",
        "    for symbol in symbols:\n",
        "\n",
        "        # Load the stock price history data into pandas DataFrame\n",
        "        stock_price_history_df = get_stock_price_history_quotes(symbol, start_date, end_date)\n",
        "        if stock_price_history_df.shape[0] > 0:\n",
        "\n",
        "            # Calculate technical indicators using CUDA\n",
        "            if params[\"cuda_installed\"]:\n",
        "                # gpu_id = obtain_available_gpu_lock(locks, params, rank, win)\n",
        "                stock_price_history_df['EMA'] = ema_gpu(stock_price_history_df['close'].values, 12)\n",
        "                # release_gpu_lock(locks, gpu_id, params, win)\n",
        "\n",
        "                # gpu_id = obtain_available_gpu_lock(locks, params, rank, win)\n",
        "                stock_price_history_df['RSI'] = rsi_gpu(14, stock_price_history_df['close'].values)\n",
        "                # release_gpu_lock(locks, gpu_id, params, win)\n",
        "\n",
        "                # gpu_id = obtain_available_gpu_lock(locks, params, rank, win)\n",
        "                macd_values, signal_values = macd_gpu(stock_price_history_df['close'].values)\n",
        "                # release_gpu_lock(locks, gpu_id, params, win)\n",
        "\n",
        "                stock_price_history_df['MACD'] = macd_values\n",
        "                stock_price_history_df['Signal'] = signal_values\n",
        "            else:\n",
        "                stock_price_history_df['EMA'] = stock_price_history_df['close'].rolling(window=12).mean()\n",
        "                stock_price_history_df['RSI'] = stock_price_history_df['close'].rolling(window=14).apply(rsi, raw=True)\n",
        "                # macd_values, signal_values = macd(stock_price_history_df['close'].values)\n",
        "                stock_price_history_df['MACD'] = macd_values\n",
        "                stock_price_history_df['Signal'] = signal_values\n",
        "\n",
        "            results = pd.concat([results, stock_price_history_df])\n",
        "\n",
        "\n",
        "    return results"
      ]
    },
    {
      "cell_type": "markdown",
      "metadata": {
        "id": "TTaod5vHCIXg"
      },
      "source": [
        "### Main Logic with Serial Programming"
      ]
    },
    {
      "cell_type": "code",
      "execution_count": 22,
      "metadata": {
        "id": "dz13tH4KCIXg"
      },
      "outputs": [],
      "source": [
        "def main_serial(params):\n",
        "\n",
        "    current_year = datetime.now().year\n",
        "    previous_day = datetime.now() - timedelta(days=1)\n",
        "    first_day_of_year = f\"{current_year}-01-01\"\n",
        "    previous_day_str = previous_day.strftime(\"%Y-%m-%d\")\n",
        "\n",
        "    start_date = first_day_of_year + \"T00:00:00\"\n",
        "    end_date = previous_day_str + \"T23:59:59\"\n",
        "    data_dir = './data'\n",
        "\n",
        "    gpu_cores = 0\n",
        "    rank = 0\n",
        "    size = 1\n",
        "    serial_fetching_stock_start_time = time.time()\n",
        "\n",
        "    print(f\"Rank: {rank}, Size: {size}\")\n",
        "\n",
        "    # Read symbols from the CSV file\n",
        "    symbols = read_symbols_from_csvfile(os.environ[\"PROJECT_ROOT\"] + \"s-and-p-500-constituents/sandp500-20240310.csv\")\n",
        "\n",
        "\n",
        "    # ************** #\n",
        "    # * Core logic * #\n",
        "    # ************** #\n",
        "    results = core_logic(symbols, start_date, end_date, rank, size, params, None, None)\n",
        "\n",
        "\n",
        "    serial_fetching_stock_end_time = time.time()\n",
        "    print(f\"Serial fetching stock price history quotes completed in {serial_fetching_stock_end_time - serial_fetching_stock_start_time} seconds\")"
      ]
    },
    {
      "cell_type": "markdown",
      "metadata": {
        "id": "kWyqpk9fCIXg"
      },
      "source": [
        "### Main Logic with Hybrid Programming"
      ]
    },
    {
      "cell_type": "code",
      "execution_count": 23,
      "metadata": {
        "id": "PQqTKjwDxxj7"
      },
      "outputs": [],
      "source": [
        "def main_hybrid(params):\n",
        "\n",
        "    current_year = datetime.now().year\n",
        "    previous_day = datetime.now() - timedelta(days=1)\n",
        "    first_day_of_year = f\"{current_year}-01-01\"\n",
        "    previous_day_str = previous_day.strftime(\"%Y-%m-%d\")\n",
        "\n",
        "    start_date = first_day_of_year + \"T00:00:00\"\n",
        "    end_date = previous_day_str + \"T23:59:59\"\n",
        "    data_dir = './data'\n",
        "\n",
        "    # Create a lock for each GPU\n",
        "    if params[\"cuda_installed\"]:\n",
        "\n",
        "        device = cuda.get_current_device()\n",
        "        print(f\"GPU name: {device.name.decode('utf-8')}\")\n",
        "\n",
        "        gpu_cores = len(cuda.gpus)\n",
        "        print(f\"GPU cores: {gpu_cores}\")\n",
        "\n",
        "    else:\n",
        "        print(\"CUDA is not available\")\n",
        "        gpu_cores = 0\n",
        "        \n",
        "    if params[\"mpi_installed\"]:\n",
        "        # Initialize MPI\n",
        "        comm = MPI.COMM_WORLD\n",
        "\n",
        "        # check if mpi is initialized\n",
        "        if comm:\n",
        "            rank = comm.Get_rank()\n",
        "            size = comm.Get_size()\n",
        "\n",
        "            # MPI WTime\n",
        "            parallel_fetching_stock_start_time = MPI.Wtime()\n",
        "        else:\n",
        "            rank = 0\n",
        "            size = 1\n",
        "            serial_fetching_stock_start_time = time.time()\n",
        "    else:\n",
        "        rank = 0\n",
        "        size = 1\n",
        "        serial_fetching_stock_start_time = time.time()\n",
        "\n",
        "    if params[\"mpi_installed\"] and params[\"cuda_installed\"]:\n",
        "        print(f\"Initializing GPU locks\")\n",
        "        # locks = [MPI.Win.Create(None, 1, MPI.INFO_NULL, MPI.COMM_WORLD) for _ in range(gpu_cores)]\n",
        "        # locks = [MPI.Win.Allocate(1, 1, MPI.INFO_NULL, MPI.COMM_WORLD) for _ in range(gpu_cores)]\n",
        "        # for i in range(gpu_cores):\n",
        "        #     locks[i].Fence(0)\n",
        "        locks = np.zeros(gpu_cores, dtype='i')\n",
        "        # locks = np.ascontiguousarray(np.zeros(gpu_cores, dtype='i'))\n",
        "        # win = MPI.Win.Create(locks, comm=comm)\n",
        "        win = MPI.Win.Allocate(gpu_cores, 1, MPI.INFO_NULL, comm)\n",
        "        print(f\"{len(locks)} GPU(s) are allocated\")\n",
        "    else:\n",
        "      locks = []\n",
        "\n",
        "    print(f\"Rank: {rank}, Size: {size}\")\n",
        "\n",
        "    # Root process should scatter the symbols to all processes\n",
        "    if rank == 0:\n",
        "\n",
        "        # Read symbols from the CSV file\n",
        "        symbols = read_symbols_from_csvfile(os.environ[\"PROJECT_ROOT\"] + \"s-and-p-500-constituents/sandp500-20240310.csv\")\n",
        "\n",
        "        # Calculate how many symbols each process should receive\n",
        "        symbols_per_process = len(symbols) // size\n",
        "        if size > 1:\n",
        "            remainder = len(symbols) % size\n",
        "            if remainder != 0 and rank < remainder:\n",
        "                symbols_per_process += 1\n",
        "\n",
        "            # Scatter symbols to all processes and each process should receive length of symbols / size blocks\n",
        "            local_symbols = [symbols[i:i + symbols_per_process] for i in range(0, len(symbols), symbols_per_process)]\n",
        "        else:\n",
        "          local_symbols = [symbols]\n",
        "\n",
        "    else:\n",
        "        local_symbols = None\n",
        "\n",
        "    if comm:\n",
        "        local_symbols = comm.scatter(local_symbols, root=0)\n",
        "\n",
        "    # ************** #\n",
        "    # * Core logic * #\n",
        "    # ************** #\n",
        "    print(f\"params: {params}\")\n",
        "\n",
        "    results = core_logic(local_symbols, start_date, end_date, rank, size, params, locks, win)\n",
        "\n",
        "    ## Gather the results from all processes\n",
        "    remote_results = pd.DataFrame()\n",
        "    if comm:\n",
        "        remote_result = comm.gather(results, root=0)\n",
        "\n",
        "    if rank == 0:\n",
        "        results = pd.concat([results, remote_results])\n",
        "        if params[\"mpi_installed\"] and comm:\n",
        "            display(results)\n",
        "\n",
        "            # MPI WTime\n",
        "            parallel_fetching_stock_end_time = MPI.Wtime()\n",
        "            print(f\"Parallel fetching stock price history quotes completed in {parallel_fetching_stock_end_time - parallel_fetching_stock_start_time} seconds\")\n",
        "        else:\n",
        "            serial_fetching_stock_end_time = time.time()\n",
        "            print(f\"Serial fetching stock price history quotes completed in {serial_fetching_stock_end_time - serial_fetching_stock_start_time} seconds\")\n"
      ]
    },
    {
      "cell_type": "markdown",
      "metadata": {
        "id": "5zSFC0mZCIXg"
      },
      "source": [
        "### Main Body"
      ]
    },
    {
      "cell_type": "code",
      "execution_count": 24,
      "metadata": {
        "colab": {
          "base_uri": "https://localhost:8080/",
          "height": 443
        },
        "id": "3-4WlGYFCIXg",
        "outputId": "8205828a-0e9f-44f0-f7a7-bf08adeef8af"
      },
      "outputs": [
        {
          "name": "stdout",
          "output_type": "stream",
          "text": [
            "CUDA is not available\n",
            "Rank: 0, Size: 1\n"
          ]
        },
        {
          "ename": "UnboundLocalError",
          "evalue": "cannot access local variable 'comm' where it is not associated with a value",
          "output_type": "error",
          "traceback": [
            "\u001b[1;31m---------------------------------------------------------------------------\u001b[0m",
            "\u001b[1;31mUnboundLocalError\u001b[0m                         Traceback (most recent call last)",
            "Cell \u001b[1;32mIn[24], line 3\u001b[0m\n\u001b[0;32m      1\u001b[0m \u001b[38;5;28;01mif\u001b[39;00m \u001b[38;5;18m__name__\u001b[39m \u001b[38;5;241m==\u001b[39m \u001b[38;5;124m\"\u001b[39m\u001b[38;5;124m__main__\u001b[39m\u001b[38;5;124m\"\u001b[39m:\n\u001b[0;32m      2\u001b[0m     \u001b[38;5;66;03m# main_serial(params)\u001b[39;00m\n\u001b[1;32m----> 3\u001b[0m     \u001b[43mmain_hybrid\u001b[49m\u001b[43m(\u001b[49m\u001b[43mparams\u001b[49m\u001b[43m)\u001b[49m\n",
            "Cell \u001b[1;32mIn[23], line 82\u001b[0m, in \u001b[0;36mmain_hybrid\u001b[1;34m(params)\u001b[0m\n\u001b[0;32m     79\u001b[0m \u001b[38;5;28;01melse\u001b[39;00m:\n\u001b[0;32m     80\u001b[0m     local_symbols \u001b[38;5;241m=\u001b[39m \u001b[38;5;28;01mNone\u001b[39;00m\n\u001b[1;32m---> 82\u001b[0m \u001b[38;5;28;01mif\u001b[39;00m \u001b[43mcomm\u001b[49m:\n\u001b[0;32m     83\u001b[0m     local_symbols \u001b[38;5;241m=\u001b[39m comm\u001b[38;5;241m.\u001b[39mscatter(local_symbols, root\u001b[38;5;241m=\u001b[39m\u001b[38;5;241m0\u001b[39m)\n\u001b[0;32m     85\u001b[0m \u001b[38;5;66;03m# ************** #\u001b[39;00m\n\u001b[0;32m     86\u001b[0m \u001b[38;5;66;03m# * Core logic * #\u001b[39;00m\n\u001b[0;32m     87\u001b[0m \u001b[38;5;66;03m# ************** #\u001b[39;00m\n",
            "\u001b[1;31mUnboundLocalError\u001b[0m: cannot access local variable 'comm' where it is not associated with a value"
          ]
        }
      ],
      "source": [
        "if __name__ == \"__main__\":\n",
        "    # main_serial(params)\n",
        "    main_hybrid(params)"
      ]
    },
    {
      "cell_type": "markdown",
      "metadata": {
        "id": "_gtrQHTTenXn"
      },
      "source": [
        "## Data Visualization"
      ]
    },
    {
      "cell_type": "markdown",
      "metadata": {
        "id": "O-0UYnFaenXn"
      },
      "source": [
        "## Performance Analysis"
      ]
    }
  ],
  "metadata": {
    "accelerator": "GPU",
    "colab": {
      "gpuType": "T4",
      "provenance": []
    },
    "kernelspec": {
      "display_name": "Python 3 (ipykernel)",
      "language": "python",
      "name": "python3"
    },
    "language_info": {
      "codemirror_mode": {
        "name": "ipython",
        "version": 3
      },
      "file_extension": ".py",
      "mimetype": "text/x-python",
      "name": "python",
      "nbconvert_exporter": "python",
      "pygments_lexer": "ipython3",
      "version": "3.10.12"
    }
  },
  "nbformat": 4,
  "nbformat_minor": 0
}
