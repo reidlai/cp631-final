{
  "cells": [
    {
      "cell_type": "markdown",
      "metadata": {
        "id": "_cMA83jienXc"
      },
      "source": [
        "## Prerequisites"
      ]
    },
    {
      "cell_type": "markdown",
      "metadata": {
        "id": "Fi1lrF4OCIXR"
      },
      "source": [
        "### Delare params dict"
      ]
    },
    {
      "cell_type": "code",
      "execution_count": 43,
      "metadata": {
        "id": "cMu8SC9pCIXS"
      },
      "outputs": [],
      "source": [
        "params = {}"
      ]
    },
    {
      "cell_type": "markdown",
      "metadata": {
        "id": "Rk9UnL-SenXg"
      },
      "source": [
        "### Google Colab Environment Checking"
      ]
    },
    {
      "cell_type": "code",
      "execution_count": 44,
      "metadata": {
        "colab": {
          "base_uri": "https://localhost:8080/"
        },
        "id": "zaiv3QLKenXh",
        "outputId": "d9fe1c4a-a69f-4914-95dc-5ed871b84404"
      },
      "outputs": [
        {
          "name": "stdout",
          "output_type": "stream",
          "text": [
            "in_colab: True\n"
          ]
        }
      ],
      "source": [
        "import os\n",
        "import sys\n",
        "\n",
        "params[\"in_colab\"] = 'google.colab' in sys.modules\n",
        "print(f\"in_colab: {params['in_colab']}\")\n",
        "\n",
        "if params[\"in_colab\"]:\n",
        "    os.environ[\"PROJECT_ROOT\"] = \"./\"\n",
        "else:\n",
        "    os.environ[\"PROJECT_ROOT\"] = \"./\""
      ]
    },
    {
      "cell_type": "markdown",
      "metadata": {
        "id": "CdmQ2Dn-CIXV"
      },
      "source": [
        "### Jupyter Notebook Environment Checking"
      ]
    },
    {
      "cell_type": "code",
      "execution_count": 45,
      "metadata": {
        "colab": {
          "base_uri": "https://localhost:8080/"
        },
        "id": "KdeYy3ubCIXV",
        "outputId": "62ff6f54-dbc2-4471-a0c4-a095756a2452"
      },
      "outputs": [
        {
          "name": "stdout",
          "output_type": "stream",
          "text": [
            "in_notebook: True\n"
          ]
        }
      ],
      "source": [
        "def in_notebook():\n",
        "    try:\n",
        "        from IPython import get_ipython\n",
        "        if 'IPKernelApp' not in get_ipython().config:  # pragma: no cover\n",
        "            return False\n",
        "    except ImportError:\n",
        "        return False\n",
        "    return True\n",
        "\n",
        "params[\"in_notebook\"] = in_notebook()\n",
        "print(f\"in_notebook: {params['in_notebook']}\")"
      ]
    },
    {
      "cell_type": "markdown",
      "metadata": {
        "id": "kbdgrqQeenXi"
      },
      "source": [
        "### MacOS Environment Checking\n",
        "\n",
        "In this code, platform.system() returns the name of the operating system dependent module imported. The returned value is 'Darwin' for MacOS, 'Linux' for Linux, 'Windows' for Windows and so on. If the returned value is 'Darwin', it means you are using MacOS."
      ]
    },
    {
      "cell_type": "code",
      "execution_count": 46,
      "metadata": {
        "colab": {
          "base_uri": "https://localhost:8080/"
        },
        "id": "BQFvqBU-CIXW",
        "outputId": "2bc77967-715f-442b-c35a-c6db583ac6d2"
      },
      "outputs": [
        {
          "name": "stdout",
          "output_type": "stream",
          "text": [
            "Requirement already satisfied: distro in /usr/lib/python3/dist-packages (1.7.0)\n",
            "\u001b[33mWARNING: Running pip as the 'root' user can result in broken permissions and conflicting behaviour with the system package manager. It is recommended to use a virtual environment instead: https://pip.pypa.io/warnings/venv\u001b[0m\u001b[33m\n",
            "\u001b[0m"
          ]
        }
      ],
      "source": [
        "!pip install distro"
      ]
    },
    {
      "cell_type": "code",
      "execution_count": 47,
      "metadata": {
        "colab": {
          "base_uri": "https://localhost:8080/"
        },
        "id": "DNAu7JYienXj",
        "outputId": "edbbddd0-cac7-4896-dbfb-b817d7cdfd82"
      },
      "outputs": [
        {
          "name": "stdout",
          "output_type": "stream",
          "text": [
            "is_macos: False\n",
            "is_debian: True\n"
          ]
        }
      ],
      "source": [
        "import platform\n",
        "import distro\n",
        "\n",
        "if platform.system() == 'Darwin':\n",
        "    params[\"is_macos\"] = True\n",
        "else:\n",
        "    params[\"is_macos\"] = False\n",
        "\n",
        "print(f'is_macos: {params[\"is_macos\"]}')\n",
        "\n",
        "if platform.system() == 'Linux':\n",
        "    distro_name = distro.id()\n",
        "    if 'debian' in distro_name.lower() or 'ubuntu' in distro_name.lower():\n",
        "        params[\"is_debian\"] = True\n",
        "    else:\n",
        "        params[\"is_debian\"] = False\n",
        "else:\n",
        "    params[\"is_debian\"] = False\n",
        "\n",
        "print(f'is_debian: {params[\"is_debian\"]}')"
      ]
    },
    {
      "cell_type": "markdown",
      "metadata": {
        "id": "2taQ58EOCIXX"
      },
      "source": [
        "### Check if using Ubuntu WSL 2.0 or not"
      ]
    },
    {
      "cell_type": "code",
      "execution_count": 48,
      "metadata": {
        "colab": {
          "base_uri": "https://localhost:8080/"
        },
        "id": "5YyBBl0tCIXX",
        "outputId": "ad1ae364-6884-4d8b-f59a-dc43438aeeef"
      },
      "outputs": [
        {
          "name": "stdout",
          "output_type": "stream",
          "text": [
            "is_wsl: False\n"
          ]
        }
      ],
      "source": [
        "def is_wsl():\n",
        "    try:\n",
        "        with open('/proc/version', 'r') as fh:\n",
        "            return 'microsoft' in fh.read().lower()\n",
        "    except FileNotFoundError:\n",
        "        return False\n",
        "\n",
        "params[\"is_wsl\"] = is_wsl()\n",
        "print(f\"is_wsl: {params['is_wsl']}\")"
      ]
    },
    {
      "cell_type": "markdown",
      "metadata": {
        "id": "XeA5CxA8enXm"
      },
      "source": [
        "### Check if MPI installed in OS\n",
        "\n",
        "Use the mpirun command to see if MPI is up and running."
      ]
    },
    {
      "cell_type": "code",
      "execution_count": 49,
      "metadata": {
        "colab": {
          "base_uri": "https://localhost:8080/"
        },
        "id": "I5XesPBpxxj3",
        "outputId": "7b99c4fb-75b1-49b9-98de-abb86b39bdf0"
      },
      "outputs": [
        {
          "name": "stdout",
          "output_type": "stream",
          "text": [
            "MPI installed: True\n"
          ]
        }
      ],
      "source": [
        "import subprocess\n",
        "\n",
        "def is_mpi_installed():\n",
        "    try:\n",
        "        if params[\"is_macos\"]:\n",
        "          subprocess.check_output([\"/usr/local/bin/mpirun\", \"--version\"])\n",
        "        else:\n",
        "          subprocess.check_output([\"mpirun\", \"--version\"])\n",
        "        return True\n",
        "    except (subprocess.CalledProcessError, FileNotFoundError):\n",
        "        return False\n",
        "\n",
        "params[\"mpi_installed\"] = is_mpi_installed()\n",
        "print(f'MPI installed: {params[\"mpi_installed\"]}')\n",
        "\n",
        "if not params[\"mpi_installed\"]:\n",
        "    print(\"[FATAL] MPI is not installed\")"
      ]
    },
    {
      "cell_type": "markdown",
      "metadata": {
        "id": "3JZc6KX3xxj4"
      },
      "source": [
        "### Check if NVIDIA CUDA toolkit installed\n",
        "\n",
        "Use the numba command to see if MPI is up and running."
      ]
    },
    {
      "cell_type": "code",
      "execution_count": 50,
      "metadata": {
        "colab": {
          "base_uri": "https://localhost:8080/"
        },
        "id": "mepEnulICIXX",
        "outputId": "24858b88-a04b-42d5-b704-0495e610cce5"
      },
      "outputs": [
        {
          "name": "stdout",
          "output_type": "stream",
          "text": [
            "Requirement already satisfied: numba in /usr/local/lib/python3.10/dist-packages (0.58.1)\n",
            "Requirement already satisfied: llvmlite<0.42,>=0.41.0dev0 in /usr/local/lib/python3.10/dist-packages (from numba) (0.41.1)\n",
            "Requirement already satisfied: numpy<1.27,>=1.22 in /usr/local/lib/python3.10/dist-packages (from numba) (1.25.2)\n",
            "\u001b[33mWARNING: Running pip as the 'root' user can result in broken permissions and conflicting behaviour with the system package manager. It is recommended to use a virtual environment instead: https://pip.pypa.io/warnings/venv\u001b[0m\u001b[33m\n",
            "\u001b[0m"
          ]
        }
      ],
      "source": [
        "!pip install numba"
      ]
    },
    {
      "cell_type": "code",
      "execution_count": 51,
      "metadata": {
        "colab": {
          "base_uri": "https://localhost:8080/"
        },
        "id": "_iHwripSxxj4",
        "outputId": "35d45f12-c32d-4230-fd88-dab110eaea8c"
      },
      "outputs": [
        {
          "name": "stdout",
          "output_type": "stream",
          "text": [
            "Found 1 CUDA devices\n",
            "id 0             b'Tesla T4'                              [SUPPORTED]\n",
            "                      Compute Capability: 7.5\n",
            "                           PCI Device ID: 4\n",
            "                              PCI Bus ID: 0\n",
            "                                    UUID: GPU-7d65ed97-886c-d780-5e6a-49e67d2d557a\n",
            "                                Watchdog: Disabled\n",
            "             FP32/FP64 Performance Ratio: 32\n",
            "Summary:\n",
            "\t1/1 devices are supported\n",
            "CUDA installed: True\n"
          ]
        }
      ],
      "source": [
        "from numba import cuda\n",
        "\n",
        "def is_cuda_installed():\n",
        "    try:\n",
        "        cuda.detect()\n",
        "        return True\n",
        "    except cuda.CudaSupportError:\n",
        "        return False\n",
        "\n",
        "params[\"cuda_installed\"] = is_cuda_installed()\n",
        "print(f'CUDA installed: {params[\"cuda_installed\"]}')\n",
        "\n",
        "if not params[\"cuda_installed\"]:\n",
        "    print(\"[FATAL] CUDA is not installed\")"
      ]
    },
    {
      "cell_type": "markdown",
      "metadata": {
        "id": "on4x2zzXenXj"
      },
      "source": [
        "### Install MPI and CUDA if not installed"
      ]
    },
    {
      "cell_type": "markdown",
      "metadata": {
        "id": "QRZbDkF7xxj4"
      },
      "source": [
        "**Reminder**: Because latest Macbook does not bundle with NVIDIA CUDA compatible GPU and CUDA toolkits since at least CUDA 4.0 have not supported an ability to run cuda code without a GPU, this program cannot support MacOS environment."
      ]
    },
    {
      "cell_type": "markdown",
      "metadata": {
        "id": "MhPuTnBxxxj4"
      },
      "source": [
        "If mpi_installed of the above result show False, please install openmpi binary and library based on your platform.\n",
        "\n",
        "In Ubuntu you can install Open MPI as follow\n",
        "\n",
        "```bash\n",
        "sudo apt update\n",
        "sudo apt install openmpi-bin\n",
        "sudo apt install libopenmpi-dev\n",
        "```\n",
        "\n",
        "The following code will install Open MPI in Google Colab"
      ]
    },
    {
      "cell_type": "code",
      "execution_count": 52,
      "metadata": {
        "colab": {
          "base_uri": "https://localhost:8080/"
        },
        "id": "4VcuVz1nenXj",
        "outputId": "07919c62-a5cd-4b80-a57b-83757b02cf56"
      },
      "outputs": [
        {
          "name": "stdout",
          "output_type": "stream",
          "text": [
            "MPI is installed\n"
          ]
        }
      ],
      "source": [
        "import os\n",
        "\n",
        "if params[\"in_colab\"] and not params[\"mpi_installed\"]:\n",
        "    print(\"Installing MPI\")\n",
        "    !apt update\n",
        "    !apt install openmpi-bin\n",
        "    !apt install libopenmpi-dev\n",
        "    print(\"MPI installed\")\n",
        "else:\n",
        "    print(\"MPI is installed\")"
      ]
    },
    {
      "cell_type": "markdown",
      "metadata": {
        "id": "v6asE4ZCxxj5"
      },
      "source": [
        "if cuda_installed show False, please install NVIDIA CUDA toolkit in your platform\n",
        "\n",
        "In Ubuntu (except Ubuntu WSL 2.0 under Windows 10/11) you can install CUDA as follow\n",
        "\n",
        "```bash\n",
        "sudo apt update\n",
        "sudo apt install -y gpupg2\n",
        "wget https://developer.download.nvidia.com/compute/cuda/repos/debian10/x86_64/cuda-repo-debian10_10.2.89-1_amd64.deb\n",
        "sudo dpkg -i cuda-repo-debian10_10.2.89-1_amd64.deb\n",
        "sudo apt-key adv --fetch-keys https://developer.download.nvidia.com/compute/cuda/repos/debian10/x86_64/7fa2af80.pub\n",
        "sudo apt update\n",
        "sudo apt-get install cuda\n",
        "```\n",
        "\n",
        "Under Google Colab, cuda is bundled."
      ]
    },
    {
      "cell_type": "markdown",
      "metadata": {
        "id": "x7byduHsenXk"
      },
      "source": [
        "## Environment Setup"
      ]
    },
    {
      "cell_type": "markdown",
      "metadata": {
        "id": "PJo0uW_uenXl"
      },
      "source": [
        "### Kaggle Authenticiation\n",
        "\n",
        "In this notebook, we will download a dataset from Kaggle. Before beginning the download process, it is necessary to ensure an account on Kaggle available. If you do not wish to sign in and would rather bypass the login prompt by uploading your kaggle.json file directly instead, then obtain it from your account settings page and save it either in the project root directory or content directory of Google Colab before starting this notebook. This way, you can quickly access any datasets without needing to log into Kaggle every time!"
      ]
    },
    {
      "cell_type": "markdown",
      "metadata": {
        "id": "lFIkicQUenXl"
      },
      "source": [
        "### Install PyPi packages\n",
        "\n",
        "Installing PyPi packages is an essential step in this notebook. Among the mandatory packages, mpi4py and opendatasets provide crucial functionalities for data manipulation, distributed computing, and accessing large datasets. While Google Colab offers the convenience of bundled packages such as numpy, matplotlib, pandas, and seaborn, these packages still need to be installed separately in a local environment."
      ]
    },
    {
      "cell_type": "code",
      "execution_count": 53,
      "metadata": {
        "colab": {
          "base_uri": "https://localhost:8080/"
        },
        "id": "gNDNObGLenXl",
        "outputId": "83742162-a7dc-43d0-81df-b9f5f3854e87"
      },
      "outputs": [
        {
          "name": "stdout",
          "output_type": "stream",
          "text": [
            "Requirement already satisfied: pip in /usr/local/lib/python3.10/dist-packages (24.0)\n",
            "\u001b[33mWARNING: Running pip as the 'root' user can result in broken permissions and conflicting behaviour with the system package manager. It is recommended to use a virtual environment instead: https://pip.pypa.io/warnings/venv\u001b[0m\u001b[33m\n",
            "\u001b[0mRequirement already satisfied: mpi4py in /usr/local/lib/python3.10/dist-packages (3.1.5)\n",
            "\u001b[33mWARNING: Running pip as the 'root' user can result in broken permissions and conflicting behaviour with the system package manager. It is recommended to use a virtual environment instead: https://pip.pypa.io/warnings/venv\u001b[0m\u001b[33m\n",
            "\u001b[0mRequirement already satisfied: opendatasets in /usr/local/lib/python3.10/dist-packages (0.1.22)\n",
            "Requirement already satisfied: tqdm in /usr/local/lib/python3.10/dist-packages (from opendatasets) (4.66.2)\n",
            "Requirement already satisfied: kaggle in /usr/local/lib/python3.10/dist-packages (from opendatasets) (1.5.16)\n",
            "Requirement already satisfied: click in /usr/local/lib/python3.10/dist-packages (from opendatasets) (8.1.7)\n",
            "Requirement already satisfied: six>=1.10 in /usr/local/lib/python3.10/dist-packages (from kaggle->opendatasets) (1.16.0)\n",
            "Requirement already satisfied: certifi in /usr/local/lib/python3.10/dist-packages (from kaggle->opendatasets) (2024.2.2)\n",
            "Requirement already satisfied: python-dateutil in /usr/local/lib/python3.10/dist-packages (from kaggle->opendatasets) (2.8.2)\n",
            "Requirement already satisfied: requests in /usr/local/lib/python3.10/dist-packages (from kaggle->opendatasets) (2.31.0)\n",
            "Requirement already satisfied: python-slugify in /usr/local/lib/python3.10/dist-packages (from kaggle->opendatasets) (8.0.4)\n",
            "Requirement already satisfied: urllib3 in /usr/local/lib/python3.10/dist-packages (from kaggle->opendatasets) (2.0.7)\n",
            "Requirement already satisfied: bleach in /usr/local/lib/python3.10/dist-packages (from kaggle->opendatasets) (6.1.0)\n",
            "Requirement already satisfied: webencodings in /usr/local/lib/python3.10/dist-packages (from bleach->kaggle->opendatasets) (0.5.1)\n",
            "Requirement already satisfied: text-unidecode>=1.3 in /usr/local/lib/python3.10/dist-packages (from python-slugify->kaggle->opendatasets) (1.3)\n",
            "Requirement already satisfied: charset-normalizer<4,>=2 in /usr/local/lib/python3.10/dist-packages (from requests->kaggle->opendatasets) (3.3.2)\n",
            "Requirement already satisfied: idna<4,>=2.5 in /usr/local/lib/python3.10/dist-packages (from requests->kaggle->opendatasets) (3.6)\n",
            "\u001b[33mWARNING: Running pip as the 'root' user can result in broken permissions and conflicting behaviour with the system package manager. It is recommended to use a virtual environment instead: https://pip.pypa.io/warnings/venv\u001b[0m\u001b[33m\n",
            "\u001b[0mRequirement already satisfied: yfinance in /usr/local/lib/python3.10/dist-packages (0.2.37)\n",
            "Requirement already satisfied: pandas>=1.3.0 in /usr/local/lib/python3.10/dist-packages (from yfinance) (1.5.3)\n",
            "Requirement already satisfied: numpy>=1.16.5 in /usr/local/lib/python3.10/dist-packages (from yfinance) (1.25.2)\n",
            "Requirement already satisfied: requests>=2.31 in /usr/local/lib/python3.10/dist-packages (from yfinance) (2.31.0)\n",
            "Requirement already satisfied: multitasking>=0.0.7 in /usr/local/lib/python3.10/dist-packages (from yfinance) (0.0.11)\n",
            "Requirement already satisfied: lxml>=4.9.1 in /usr/local/lib/python3.10/dist-packages (from yfinance) (4.9.4)\n",
            "Requirement already satisfied: appdirs>=1.4.4 in /usr/local/lib/python3.10/dist-packages (from yfinance) (1.4.4)\n",
            "Requirement already satisfied: pytz>=2022.5 in /usr/local/lib/python3.10/dist-packages (from yfinance) (2023.4)\n",
            "Requirement already satisfied: frozendict>=2.3.4 in /usr/local/lib/python3.10/dist-packages (from yfinance) (2.4.0)\n",
            "Requirement already satisfied: peewee>=3.16.2 in /usr/local/lib/python3.10/dist-packages (from yfinance) (3.17.1)\n",
            "Requirement already satisfied: beautifulsoup4>=4.11.1 in /usr/local/lib/python3.10/dist-packages (from yfinance) (4.12.3)\n",
            "Requirement already satisfied: html5lib>=1.1 in /usr/local/lib/python3.10/dist-packages (from yfinance) (1.1)\n",
            "Requirement already satisfied: soupsieve>1.2 in /usr/local/lib/python3.10/dist-packages (from beautifulsoup4>=4.11.1->yfinance) (2.5)\n",
            "Requirement already satisfied: six>=1.9 in /usr/local/lib/python3.10/dist-packages (from html5lib>=1.1->yfinance) (1.16.0)\n",
            "Requirement already satisfied: webencodings in /usr/local/lib/python3.10/dist-packages (from html5lib>=1.1->yfinance) (0.5.1)\n",
            "Requirement already satisfied: python-dateutil>=2.8.1 in /usr/local/lib/python3.10/dist-packages (from pandas>=1.3.0->yfinance) (2.8.2)\n",
            "Requirement already satisfied: charset-normalizer<4,>=2 in /usr/local/lib/python3.10/dist-packages (from requests>=2.31->yfinance) (3.3.2)\n",
            "Requirement already satisfied: idna<4,>=2.5 in /usr/local/lib/python3.10/dist-packages (from requests>=2.31->yfinance) (3.6)\n",
            "Requirement already satisfied: urllib3<3,>=1.21.1 in /usr/local/lib/python3.10/dist-packages (from requests>=2.31->yfinance) (2.0.7)\n",
            "Requirement already satisfied: certifi>=2017.4.17 in /usr/local/lib/python3.10/dist-packages (from requests>=2.31->yfinance) (2024.2.2)\n",
            "\u001b[33mWARNING: Running pip as the 'root' user can result in broken permissions and conflicting behaviour with the system package manager. It is recommended to use a virtual environment instead: https://pip.pypa.io/warnings/venv\u001b[0m\u001b[33m\n",
            "\u001b[0m"
          ]
        }
      ],
      "source": [
        "!pip install --upgrade pip\n",
        "!pip install mpi4py\n",
        "!pip install opendatasets\n",
        "!pip install yfinance\n",
        "\n",
        "if not params[\"in_colab\"]:\n",
        "    print(\"Installing required packages for local environment\")\n",
        "\n",
        "    !pip install numpy\n",
        "    !pip install matplotlib\n",
        "    !pip install pandas\n",
        "    !pip install seaborn\n",
        "\n",
        "    print(\"Common required packages installed\")\n"
      ]
    },
    {
      "cell_type": "markdown",
      "metadata": {
        "id": "hV62W2BwCIXZ"
      },
      "source": [
        "Check numba info"
      ]
    },
    {
      "cell_type": "code",
      "execution_count": 54,
      "metadata": {
        "colab": {
          "base_uri": "https://localhost:8080/"
        },
        "id": "CWs90Df-CIXZ",
        "outputId": "5543c935-71df-4114-9e3c-5fd2b25e0b86"
      },
      "outputs": [
        {
          "name": "stdout",
          "output_type": "stream",
          "text": [
            "System info:\n",
            "--------------------------------------------------------------------------------\n",
            "__Time Stamp__\n",
            "Report started (local time)                   : 2024-03-19 16:19:33.832095\n",
            "UTC start time                                : 2024-03-19 16:19:33.832101\n",
            "Running time (s)                              : 1.942902\n",
            "\n",
            "__Hardware Information__\n",
            "Machine                                       : x86_64\n",
            "CPU Name                                      : broadwell\n",
            "CPU Count                                     : 2\n",
            "Number of accessible CPUs                     : 2\n",
            "List of accessible CPUs cores                 : 0 1\n",
            "CFS Restrictions (CPUs worth of runtime)      : None\n",
            "\n",
            "CPU Features                                  : 64bit adx aes avx avx2 bmi bmi2\n",
            "                                                cmov crc32 cx16 cx8 f16c fma\n",
            "                                                fsgsbase fxsr invpcid lzcnt mmx\n",
            "                                                movbe pclmul popcnt prfchw rdrnd\n",
            "                                                rdseed rtm sahf sse sse2 sse3\n",
            "                                                sse4.1 sse4.2 ssse3 xsave xsaveopt\n",
            "\n",
            "Memory Total (MB)                             : 12978\n",
            "Memory Available (MB)                         : 11520\n",
            "\n",
            "__OS Information__\n",
            "Platform Name                                 : Linux-6.1.58+-x86_64-with-glibc2.35\n",
            "Platform Release                              : 6.1.58+\n",
            "OS Name                                       : Linux\n",
            "OS Version                                    : #1 SMP PREEMPT_DYNAMIC Sat Nov 18 15:31:17 UTC 2023\n",
            "OS Specific Version                           : ?\n",
            "Libc Version                                  : glibc 2.35\n",
            "\n",
            "__Python Information__\n",
            "Python Compiler                               : GCC 11.4.0\n",
            "Python Implementation                         : CPython\n",
            "Python Version                                : 3.10.12\n",
            "Python Locale                                 : en_US.UTF-8\n",
            "\n",
            "__Numba Toolchain Versions__\n",
            "Numba Version                                 : 0.58.1\n",
            "llvmlite Version                              : 0.41.1\n",
            "\n",
            "__LLVM Information__\n",
            "LLVM Version                                  : 14.0.6\n",
            "\n",
            "__CUDA Information__\n",
            "CUDA Device Initialized                       : True\n",
            "CUDA Driver Version                           : 12.2\n",
            "CUDA Runtime Version                          : 12.2\n",
            "CUDA NVIDIA Bindings Available                : False\n",
            "CUDA NVIDIA Bindings In Use                   : False\n",
            "CUDA Minor Version Compatibility Available    : False\n",
            "CUDA Minor Version Compatibility Needed       : False\n",
            "CUDA Minor Version Compatibility In Use       : False\n",
            "CUDA Detect Output:\n",
            "Found 1 CUDA devices\n",
            "id 0             b'Tesla T4'                              [SUPPORTED]\n",
            "                      Compute Capability: 7.5\n",
            "                           PCI Device ID: 4\n",
            "                              PCI Bus ID: 0\n",
            "                                    UUID: GPU-7d65ed97-886c-d780-5e6a-49e67d2d557a\n",
            "                                Watchdog: Disabled\n",
            "             FP32/FP64 Performance Ratio: 32\n",
            "Summary:\n",
            "\t1/1 devices are supported\n",
            "\n",
            "CUDA Libraries Test Output:\n",
            "Finding driver from candidates:\n",
            "\tlibcuda.so\n",
            "\tlibcuda.so.1\n",
            "\t/usr/lib/libcuda.so\n",
            "\t/usr/lib/libcuda.so.1\n",
            "\t/usr/lib64/libcuda.so\n",
            "\t/usr/lib64/libcuda.so.1\n",
            "Using loader <class 'ctypes.CDLL'>\n",
            "\tTrying to load driver...\tok\n",
            "\t\tLoaded from libcuda.so\n",
            "\tMapped libcuda.so paths:\n",
            "\t\t/usr/lib64-nvidia/libcuda.so.535.104.05\n",
            "Finding nvvm from System\n",
            "\tLocated at /usr/local/cuda/nvvm/lib64/libnvvm.so.4.0.0\n",
            "\tTrying to open library...\tok\n",
            "Finding nvrtc from System\n",
            "\tLocated at /usr/local/cuda/lib64/libnvrtc.so.12.2.140\n",
            "\tTrying to open library...\tok\n",
            "Finding cudart from System\n",
            "\tLocated at /usr/local/cuda/lib64/libcudart.so.12.2.140\n",
            "\tTrying to open library...\tok\n",
            "Finding cudadevrt from System\n",
            "\tLocated at /usr/local/cuda/lib64/libcudadevrt.a\n",
            "\tChecking library...\tok\n",
            "Finding libdevice from System\n",
            "\tLocated at /usr/local/cuda/nvvm/libdevice/libdevice.10.bc\n",
            "\tChecking library...\tok\n",
            "\n",
            "\n",
            "__NumPy Information__\n",
            "NumPy Version                                 : 1.25.2\n",
            "NumPy Supported SIMD features                 : ('MMX', 'SSE', 'SSE2', 'SSE3', 'SSSE3', 'SSE41', 'POPCNT', 'SSE42', 'AVX', 'F16C', 'FMA3', 'AVX2')\n",
            "NumPy Supported SIMD dispatch                 : ('SSSE3', 'SSE41', 'POPCNT', 'SSE42', 'AVX', 'F16C', 'FMA3', 'AVX2', 'AVX512F', 'AVX512CD', 'AVX512_KNL', 'AVX512_KNM', 'AVX512_SKX', 'AVX512_CLX', 'AVX512_CNL', 'AVX512_ICL')\n",
            "NumPy Supported SIMD baseline                 : ('SSE', 'SSE2', 'SSE3')\n",
            "NumPy AVX512_SKX support detected             : False\n",
            "\n",
            "__SVML Information__\n",
            "SVML State, config.USING_SVML                 : False\n",
            "SVML Library Loaded                           : False\n",
            "llvmlite Using SVML Patched LLVM              : True\n",
            "SVML Operational                              : False\n",
            "\n",
            "__Threading Layer Information__\n",
            "TBB Threading Layer Available                 : True\n",
            "+-->TBB imported successfully.\n",
            "OpenMP Threading Layer Available              : True\n",
            "+-->Vendor: GNU\n",
            "Workqueue Threading Layer Available           : True\n",
            "+-->Workqueue imported successfully.\n",
            "\n",
            "__Numba Environment Variable Information__\n",
            "None found.\n",
            "\n",
            "__Conda Information__\n",
            "Conda not available.\n",
            "\n",
            "__Installed Packages__\n",
            "Package                          Version\n",
            "-------------------------------- ---------------------\n",
            "absl-py                          1.4.0\n",
            "aiohttp                          3.9.3\n",
            "aiosignal                        1.3.1\n",
            "alabaster                        0.7.16\n",
            "albumentations                   1.3.1\n",
            "altair                           4.2.2\n",
            "annotated-types                  0.6.0\n",
            "anyio                            3.7.1\n",
            "appdirs                          1.4.4\n",
            "argon2-cffi                      23.1.0\n",
            "argon2-cffi-bindings             21.2.0\n",
            "array-record                     0.5.0\n",
            "arviz                            0.15.1\n",
            "astropy                          5.3.4\n",
            "astunparse                       1.6.3\n",
            "async-timeout                    4.0.3\n",
            "atpublic                         4.0\n",
            "attrs                            23.2.0\n",
            "audioread                        3.0.1\n",
            "autograd                         1.6.2\n",
            "Babel                            2.14.0\n",
            "backcall                         0.2.0\n",
            "beautifulsoup4                   4.12.3\n",
            "bidict                           0.23.1\n",
            "bigframes                        0.24.0\n",
            "bleach                           6.1.0\n",
            "blinker                          1.4\n",
            "blis                             0.7.11\n",
            "blosc2                           2.0.0\n",
            "bokeh                            3.3.4\n",
            "bqplot                           0.12.43\n",
            "branca                           0.7.1\n",
            "build                            1.1.1\n",
            "CacheControl                     0.14.0\n",
            "cachetools                       5.3.3\n",
            "catalogue                        2.0.10\n",
            "certifi                          2024.2.2\n",
            "cffi                             1.16.0\n",
            "chardet                          5.2.0\n",
            "charset-normalizer               3.3.2\n",
            "chex                             0.1.85\n",
            "click                            8.1.7\n",
            "click-plugins                    1.1.1\n",
            "cligj                            0.7.2\n",
            "cloudpathlib                     0.16.0\n",
            "cloudpickle                      2.2.1\n",
            "cmake                            3.27.9\n",
            "cmdstanpy                        1.2.1\n",
            "colorcet                         3.1.0\n",
            "colorlover                       0.3.0\n",
            "colour                           0.1.5\n",
            "community                        1.0.0b1\n",
            "confection                       0.1.4\n",
            "cons                             0.4.6\n",
            "contextlib2                      21.6.0\n",
            "contourpy                        1.2.0\n",
            "cryptography                     42.0.5\n",
            "cufflinks                        0.17.3\n",
            "cupy-cuda12x                     12.2.0\n",
            "cvxopt                           1.3.2\n",
            "cvxpy                            1.3.3\n",
            "cycler                           0.12.1\n",
            "cymem                            2.0.8\n",
            "Cython                           3.0.9\n",
            "dask                             2023.8.1\n",
            "datascience                      0.17.6\n",
            "db-dtypes                        1.2.0\n",
            "dbus-python                      1.2.18\n",
            "debugpy                          1.6.6\n",
            "decorator                        4.4.2\n",
            "defusedxml                       0.7.1\n",
            "distributed                      2023.8.1\n",
            "distro                           1.7.0\n",
            "dlib                             19.24.2\n",
            "dm-tree                          0.1.8\n",
            "docutils                         0.18.1\n",
            "dopamine-rl                      4.0.6\n",
            "duckdb                           0.9.2\n",
            "earthengine-api                  0.1.394\n",
            "easydict                         1.13\n",
            "ecos                             2.0.13\n",
            "editdistance                     0.6.2\n",
            "eerepr                           0.0.4\n",
            "en-core-web-sm                   3.7.1\n",
            "entrypoints                      0.4\n",
            "et-xmlfile                       1.1.0\n",
            "etils                            1.7.0\n",
            "etuples                          0.3.9\n",
            "exceptiongroup                   1.2.0\n",
            "fastai                           2.7.14\n",
            "fastcore                         1.5.29\n",
            "fastdownload                     0.0.7\n",
            "fastjsonschema                   2.19.1\n",
            "fastprogress                     1.0.3\n",
            "fastrlock                        0.8.2\n",
            "filelock                         3.13.1\n",
            "fiona                            1.9.6\n",
            "firebase-admin                   5.3.0\n",
            "Flask                            2.2.5\n",
            "flatbuffers                      24.3.7\n",
            "flax                             0.8.2\n",
            "folium                           0.14.0\n",
            "fonttools                        4.49.0\n",
            "frozendict                       2.4.0\n",
            "frozenlist                       1.4.1\n",
            "fsspec                           2023.6.0\n",
            "future                           0.18.3\n",
            "gast                             0.5.4\n",
            "gcsfs                            2023.6.0\n",
            "GDAL                             3.6.4\n",
            "gdown                            4.7.3\n",
            "geemap                           0.32.0\n",
            "gensim                           4.3.2\n",
            "geocoder                         1.38.1\n",
            "geographiclib                    2.0\n",
            "geopandas                        0.13.2\n",
            "geopy                            2.3.0\n",
            "gin-config                       0.5.0\n",
            "glob2                            0.7\n",
            "google                           2.0.3\n",
            "google-ai-generativelanguage     0.4.0\n",
            "google-api-core                  2.11.1\n",
            "google-api-python-client         2.84.0\n",
            "google-auth                      2.27.0\n",
            "google-auth-httplib2             0.1.1\n",
            "google-auth-oauthlib             1.2.0\n",
            "google-cloud-aiplatform          1.44.0\n",
            "google-cloud-bigquery            3.12.0\n",
            "google-cloud-bigquery-connection 1.12.1\n",
            "google-cloud-bigquery-storage    2.24.0\n",
            "google-cloud-core                2.3.3\n",
            "google-cloud-datastore           2.15.2\n",
            "google-cloud-firestore           2.11.1\n",
            "google-cloud-functions           1.13.3\n",
            "google-cloud-iam                 2.14.3\n",
            "google-cloud-language            2.13.3\n",
            "google-cloud-resource-manager    1.12.3\n",
            "google-cloud-storage             2.8.0\n",
            "google-cloud-translate           3.11.3\n",
            "google-colab                     1.0.0\n",
            "google-crc32c                    1.5.0\n",
            "google-generativeai              0.3.2\n",
            "google-pasta                     0.2.0\n",
            "google-resumable-media           2.7.0\n",
            "googleapis-common-protos         1.63.0\n",
            "googledrivedownloader            0.4\n",
            "graphviz                         0.20.1\n",
            "greenlet                         3.0.3\n",
            "grpc-google-iam-v1               0.13.0\n",
            "grpcio                           1.62.1\n",
            "grpcio-status                    1.48.2\n",
            "gspread                          3.4.2\n",
            "gspread-dataframe                3.3.1\n",
            "gym                              0.25.2\n",
            "gym-notices                      0.0.8\n",
            "h5netcdf                         1.3.0\n",
            "h5py                             3.9.0\n",
            "holidays                         0.44\n",
            "holoviews                        1.17.1\n",
            "html5lib                         1.1\n",
            "httpimport                       1.3.1\n",
            "httplib2                         0.22.0\n",
            "huggingface-hub                  0.20.3\n",
            "humanize                         4.7.0\n",
            "hyperopt                         0.2.7\n",
            "ibis-framework                   8.0.0\n",
            "idna                             3.6\n",
            "imageio                          2.31.6\n",
            "imageio-ffmpeg                   0.4.9\n",
            "imagesize                        1.4.1\n",
            "imbalanced-learn                 0.10.1\n",
            "imgaug                           0.4.0\n",
            "importlib_metadata               7.0.2\n",
            "importlib_resources              6.3.0\n",
            "imutils                          0.5.4\n",
            "inflect                          7.0.0\n",
            "iniconfig                        2.0.0\n",
            "intel-openmp                     2023.2.4\n",
            "ipyevents                        2.0.2\n",
            "ipyfilechooser                   0.6.0\n",
            "ipykernel                        5.5.6\n",
            "ipyleaflet                       0.18.2\n",
            "ipython                          7.34.0\n",
            "ipython-genutils                 0.2.0\n",
            "ipython-sql                      0.5.0\n",
            "ipytree                          0.2.2\n",
            "ipywidgets                       7.7.1\n",
            "itsdangerous                     2.1.2\n",
            "jax                              0.4.23\n",
            "jaxlib                           0.4.23+cuda12.cudnn89\n",
            "jeepney                          0.7.1\n",
            "jieba                            0.42.1\n",
            "Jinja2                           3.1.3\n",
            "joblib                           1.3.2\n",
            "jsonpickle                       3.0.3\n",
            "jsonschema                       4.19.2\n",
            "jsonschema-specifications        2023.12.1\n",
            "jupyter-client                   6.1.12\n",
            "jupyter-console                  6.1.0\n",
            "jupyter_core                     5.7.2\n",
            "jupyter-server                   1.24.0\n",
            "jupyterlab_pygments              0.3.0\n",
            "jupyterlab_widgets               3.0.10\n",
            "kaggle                           1.5.16\n",
            "kagglehub                        0.2.0\n",
            "keras                            2.15.0\n",
            "keyring                          23.5.0\n",
            "kiwisolver                       1.4.5\n",
            "langcodes                        3.3.0\n",
            "launchpadlib                     1.10.16\n",
            "lazr.restfulclient               0.14.4\n",
            "lazr.uri                         1.0.6\n",
            "lazy_loader                      0.3\n",
            "libclang                         16.0.6\n",
            "librosa                          0.10.1\n",
            "lightgbm                         4.1.0\n",
            "linkify-it-py                    2.0.3\n",
            "llvmlite                         0.41.1\n",
            "locket                           1.0.0\n",
            "logical-unification              0.4.6\n",
            "lxml                             4.9.4\n",
            "malloy                           2023.1067\n",
            "Markdown                         3.6\n",
            "markdown-it-py                   3.0.0\n",
            "MarkupSafe                       2.1.5\n",
            "matplotlib                       3.7.1\n",
            "matplotlib-inline                0.1.6\n",
            "matplotlib-venn                  0.11.10\n",
            "mdit-py-plugins                  0.4.0\n",
            "mdurl                            0.1.2\n",
            "miniKanren                       1.0.3\n",
            "missingno                        0.5.2\n",
            "mistune                          0.8.4\n",
            "mizani                           0.9.3\n",
            "mkl                              2023.2.0\n",
            "ml-dtypes                        0.2.0\n",
            "mlxtend                          0.22.0\n",
            "more-itertools                   10.1.0\n",
            "moviepy                          1.0.3\n",
            "mpi4py                           3.1.5\n",
            "mpmath                           1.3.0\n",
            "msgpack                          1.0.8\n",
            "multidict                        6.0.5\n",
            "multipledispatch                 1.0.0\n",
            "multitasking                     0.0.11\n",
            "murmurhash                       1.0.10\n",
            "music21                          9.1.0\n",
            "natsort                          8.4.0\n",
            "nbclassic                        1.0.0\n",
            "nbclient                         0.10.0\n",
            "nbconvert                        6.5.4\n",
            "nbformat                         5.10.2\n",
            "nest-asyncio                     1.6.0\n",
            "networkx                         3.2.1\n",
            "nibabel                          4.0.2\n",
            "nltk                             3.8.1\n",
            "notebook                         6.5.5\n",
            "notebook_shim                    0.2.4\n",
            "numba                            0.58.1\n",
            "numexpr                          2.9.0\n",
            "numpy                            1.25.2\n",
            "oauth2client                     4.1.3\n",
            "oauthlib                         3.2.2\n",
            "opencv-contrib-python            4.8.0.76\n",
            "opencv-python                    4.8.0.76\n",
            "opencv-python-headless           4.9.0.80\n",
            "opendatasets                     0.1.22\n",
            "openpyxl                         3.1.2\n",
            "opt-einsum                       3.3.0\n",
            "optax                            0.2.1\n",
            "orbax-checkpoint                 0.4.4\n",
            "osqp                             0.6.2.post8\n",
            "packaging                        24.0\n",
            "pandas                           1.5.3\n",
            "pandas-datareader                0.10.0\n",
            "pandas-gbq                       0.19.2\n",
            "pandas-stubs                     1.5.3.230304\n",
            "pandocfilters                    1.5.1\n",
            "panel                            1.3.8\n",
            "param                            2.0.2\n",
            "parso                            0.8.3\n",
            "parsy                            2.1\n",
            "partd                            1.4.1\n",
            "pathlib                          1.0.1\n",
            "patsy                            0.5.6\n",
            "peewee                           3.17.1\n",
            "pexpect                          4.9.0\n",
            "pickleshare                      0.7.5\n",
            "Pillow                           9.4.0\n",
            "pip                              24.0\n",
            "pip-tools                        6.13.0\n",
            "platformdirs                     4.2.0\n",
            "plotly                           5.15.0\n",
            "plotnine                         0.12.4\n",
            "pluggy                           1.4.0\n",
            "polars                           0.20.2\n",
            "pooch                            1.8.1\n",
            "portpicker                       1.5.2\n",
            "prefetch-generator               1.0.3\n",
            "preshed                          3.0.9\n",
            "prettytable                      3.10.0\n",
            "proglog                          0.1.10\n",
            "progressbar2                     4.2.0\n",
            "prometheus_client                0.20.0\n",
            "promise                          2.3\n",
            "prompt-toolkit                   3.0.43\n",
            "prophet                          1.1.5\n",
            "proto-plus                       1.23.0\n",
            "protobuf                         3.20.3\n",
            "psutil                           5.9.5\n",
            "psycopg2                         2.9.9\n",
            "ptyprocess                       0.7.0\n",
            "py-cpuinfo                       9.0.0\n",
            "py4j                             0.10.9.7\n",
            "pyarrow                          14.0.2\n",
            "pyarrow-hotfix                   0.6\n",
            "pyasn1                           0.5.1\n",
            "pyasn1-modules                   0.3.0\n",
            "pycocotools                      2.0.7\n",
            "pycparser                        2.21\n",
            "pydantic                         2.6.4\n",
            "pydantic_core                    2.16.3\n",
            "pydata-google-auth               1.8.2\n",
            "pydot                            1.4.2\n",
            "pydot-ng                         2.0.0\n",
            "pydotplus                        2.0.2\n",
            "PyDrive                          1.3.1\n",
            "PyDrive2                         1.6.3\n",
            "pyerfa                           2.0.1.1\n",
            "pygame                           2.5.2\n",
            "Pygments                         2.16.1\n",
            "PyGObject                        3.42.1\n",
            "PyJWT                            2.3.0\n",
            "pymc                             5.10.4\n",
            "pymystem3                        0.2.0\n",
            "PyOpenGL                         3.1.7\n",
            "pyOpenSSL                        24.1.0\n",
            "pyparsing                        3.1.2\n",
            "pyperclip                        1.8.2\n",
            "pyproj                           3.6.1\n",
            "pyproject_hooks                  1.0.0\n",
            "pyshp                            2.3.1\n",
            "PySocks                          1.7.1\n",
            "pytensor                         2.18.6\n",
            "pytest                           7.4.4\n",
            "python-apt                       0.0.0\n",
            "python-box                       7.1.1\n",
            "python-dateutil                  2.8.2\n",
            "python-louvain                   0.16\n",
            "python-slugify                   8.0.4\n",
            "python-utils                     3.8.2\n",
            "pytz                             2023.4\n",
            "pyviz_comms                      3.0.1\n",
            "PyWavelets                       1.5.0\n",
            "PyYAML                           6.0.1\n",
            "pyzmq                            23.2.1\n",
            "qdldl                            0.1.7.post0\n",
            "qudida                           0.0.4\n",
            "ratelim                          0.1.6\n",
            "referencing                      0.33.0\n",
            "regex                            2023.12.25\n",
            "requests                         2.31.0\n",
            "requests-oauthlib                1.4.0\n",
            "requirements-parser              0.5.0\n",
            "rich                             13.7.1\n",
            "rpds-py                          0.18.0\n",
            "rpy2                             3.4.2\n",
            "rsa                              4.9\n",
            "safetensors                      0.4.2\n",
            "scikit-image                     0.19.3\n",
            "scikit-learn                     1.2.2\n",
            "scipy                            1.11.4\n",
            "scooby                           0.9.2\n",
            "scs                              3.2.4.post1\n",
            "seaborn                          0.13.1\n",
            "SecretStorage                    3.3.1\n",
            "Send2Trash                       1.8.2\n",
            "sentencepiece                    0.1.99\n",
            "setuptools                       67.7.2\n",
            "shapely                          2.0.3\n",
            "six                              1.16.0\n",
            "sklearn-pandas                   2.2.0\n",
            "smart-open                       6.4.0\n",
            "sniffio                          1.3.1\n",
            "snowballstemmer                  2.2.0\n",
            "sortedcontainers                 2.4.0\n",
            "soundfile                        0.12.1\n",
            "soupsieve                        2.5\n",
            "soxr                             0.3.7\n",
            "spacy                            3.7.4\n",
            "spacy-legacy                     3.0.12\n",
            "spacy-loggers                    1.0.5\n",
            "Sphinx                           5.0.2\n",
            "sphinxcontrib-applehelp          1.0.8\n",
            "sphinxcontrib-devhelp            1.0.6\n",
            "sphinxcontrib-htmlhelp           2.0.5\n",
            "sphinxcontrib-jsmath             1.0.1\n",
            "sphinxcontrib-qthelp             1.0.7\n",
            "sphinxcontrib-serializinghtml    1.1.10\n",
            "SQLAlchemy                       2.0.28\n",
            "sqlglot                          20.11.0\n",
            "sqlparse                         0.4.4\n",
            "srsly                            2.4.8\n",
            "stanio                           0.3.0\n",
            "statsmodels                      0.14.1\n",
            "sympy                            1.12\n",
            "tables                           3.8.0\n",
            "tabulate                         0.9.0\n",
            "tbb                              2021.11.0\n",
            "tblib                            3.0.0\n",
            "tenacity                         8.2.3\n",
            "tensorboard                      2.15.2\n",
            "tensorboard-data-server          0.7.2\n",
            "tensorflow                       2.15.0\n",
            "tensorflow-datasets              4.9.4\n",
            "tensorflow-estimator             2.15.0\n",
            "tensorflow-gcs-config            2.15.0\n",
            "tensorflow-hub                   0.16.1\n",
            "tensorflow-io-gcs-filesystem     0.36.0\n",
            "tensorflow-metadata              1.14.0\n",
            "tensorflow-probability           0.23.0\n",
            "tensorstore                      0.1.45\n",
            "termcolor                        2.4.0\n",
            "terminado                        0.18.1\n",
            "text-unidecode                   1.3\n",
            "textblob                         0.17.1\n",
            "tf_keras                         2.15.1\n",
            "tf-slim                          1.1.0\n",
            "thinc                            8.2.3\n",
            "threadpoolctl                    3.3.0\n",
            "tifffile                         2024.2.12\n",
            "tinycss2                         1.2.1\n",
            "tokenizers                       0.15.2\n",
            "toml                             0.10.2\n",
            "tomli                            2.0.1\n",
            "toolz                            0.12.1\n",
            "torch                            2.2.1+cu121\n",
            "torchaudio                       2.2.1+cu121\n",
            "torchdata                        0.7.1\n",
            "torchsummary                     1.5.1\n",
            "torchtext                        0.17.1\n",
            "torchvision                      0.17.1+cu121\n",
            "tornado                          6.3.3\n",
            "tqdm                             4.66.2\n",
            "traitlets                        5.7.1\n",
            "traittypes                       0.2.1\n",
            "transformers                     4.38.2\n",
            "triton                           2.2.0\n",
            "tweepy                           4.14.0\n",
            "typer                            0.9.0\n",
            "types-pytz                       2024.1.0.20240203\n",
            "types-setuptools                 69.1.0.20240310\n",
            "typing_extensions                4.10.0\n",
            "tzlocal                          5.2\n",
            "uc-micro-py                      1.0.3\n",
            "uritemplate                      4.1.1\n",
            "urllib3                          2.0.7\n",
            "vega-datasets                    0.9.0\n",
            "wadllib                          1.3.6\n",
            "wasabi                           1.1.2\n",
            "wcwidth                          0.2.13\n",
            "weasel                           0.3.4\n",
            "webcolors                        1.13\n",
            "webencodings                     0.5.1\n",
            "websocket-client                 1.7.0\n",
            "Werkzeug                         3.0.1\n",
            "wheel                            0.43.0\n",
            "widgetsnbextension               3.6.6\n",
            "wordcloud                        1.9.3\n",
            "wrapt                            1.14.1\n",
            "xarray                           2023.7.0\n",
            "xarray-einstats                  0.7.0\n",
            "xgboost                          2.0.3\n",
            "xlrd                             2.0.1\n",
            "xyzservices                      2023.10.1\n",
            "yarl                             1.9.4\n",
            "yellowbrick                      1.5\n",
            "yfinance                         0.2.37\n",
            "zict                             3.0.0\n",
            "zipp                             3.18.0\n",
            "\n",
            "No errors reported.\n",
            "\n",
            "\n",
            "__Warning log__\n",
            "Warning: Conda not available.\n",
            " Error was [Errno 2] No such file or directory: 'conda'\n",
            "\n",
            "Warning (no file): /sys/fs/cgroup/cpuacct/cpu.cfs_quota_us\n",
            "Warning (no file): /sys/fs/cgroup/cpuacct/cpu.cfs_period_us\n",
            "--------------------------------------------------------------------------------\n",
            "If requested, please copy and paste the information between\n",
            "the dashed (----) lines, or from a given specific section as\n",
            "appropriate.\n",
            "\n",
            "=============================================================\n",
            "IMPORTANT: Please ensure that you are happy with sharing the\n",
            "contents of the information present, any information that you\n",
            "wish to keep private you should remove before sharing.\n",
            "=============================================================\n",
            "\n"
          ]
        }
      ],
      "source": [
        "!numba -s"
      ]
    },
    {
      "cell_type": "markdown",
      "metadata": {
        "id": "zCDTeBW8xxj6"
      },
      "source": [
        "### Import required packages"
      ]
    },
    {
      "cell_type": "code",
      "execution_count": 55,
      "metadata": {
        "id": "5xQvKYqIxxj6"
      },
      "outputs": [],
      "source": [
        "# import datetime\n",
        "import csv\n",
        "import logging\n",
        "import numpy as np\n",
        "import opendatasets as od\n",
        "import os\n",
        "import pandas as pd\n",
        "import random\n",
        "import time\n",
        "import yfinance as yf\n",
        "\n",
        "from datetime import datetime, timedelta\n",
        "\n",
        "if params[\"mpi_installed\"]:\n",
        "    from mpi4py import MPI\n",
        "\n",
        "if params[\"cuda_installed\"]:\n",
        "    from numba import cuda, float32\n"
      ]
    },
    {
      "cell_type": "markdown",
      "metadata": {
        "id": "sMUStEeNxxj6"
      },
      "source": [
        "## S&P 500 Constituents Dataset Download\n",
        "\n",
        "I will first need to download S&P 500 constituents from my Kaggle repository"
      ]
    },
    {
      "cell_type": "code",
      "execution_count": 56,
      "metadata": {
        "colab": {
          "base_uri": "https://localhost:8080/"
        },
        "id": "Y2hlBaVNxxj6",
        "outputId": "81bcc3f9-c883-4ac6-e6dd-0e89c2f259fd"
      },
      "outputs": [
        {
          "name": "stdout",
          "output_type": "stream",
          "text": [
            "Skipping, found downloaded files in \"./s-and-p-500-constituents\" (use force=True to force download)\n"
          ]
        }
      ],
      "source": [
        "od.download(\"https://www.kaggle.com/datasets/reidlai/s-and-p-500-constituents\")"
      ]
    },
    {
      "cell_type": "markdown",
      "metadata": {
        "id": "PzAJlIr2enXn"
      },
      "source": [
        "## Stock Price History Download"
      ]
    },
    {
      "cell_type": "code",
      "execution_count": 57,
      "metadata": {
        "id": "ZcNOK2scxxj6"
      },
      "outputs": [],
      "source": [
        "class Row:\n",
        "    def __init__(self, timestamp, open, high, low, close, adjclose, volume):\n",
        "        self.timestamp = timestamp\n",
        "        self.open = open\n",
        "        self.high = high\n",
        "        self.low = low\n",
        "        self.close = close\n",
        "        self.adjclose = adjclose\n",
        "        self.volume = volume\n",
        "\n",
        "def get_stock_price_history_quotes(stock_symbol, start_date, end_date):\n",
        "    start_date = datetime.strptime(start_date, \"%Y-%m-%dT%H:%M:%S\")\n",
        "    end_date = datetime.strptime(end_date, \"%Y-%m-%dT%H:%M:%S\")\n",
        "\n",
        "    try:\n",
        "        data = yf.download(stock_symbol, start=start_date, end=end_date)\n",
        "    except Exception as e:\n",
        "        logging.error(f\"Symbol not found: {stock_symbol}\")\n",
        "        return []\n",
        "\n",
        "    quotes = []\n",
        "    for index, row in data.iterrows():\n",
        "        quote = Row(index, row['Open'], row['High'], row['Low'], row['Close'], row['Adj Close'], row['Volume'])\n",
        "        quotes.append(quote)\n",
        "\n",
        "    quotes.sort(key=lambda x: x.timestamp)\n",
        "\n",
        "    # convert quotes into dataframe\n",
        "    quotes_df = pd.DataFrame([vars(quote) for quote in quotes])\n",
        "    # add symbol column\n",
        "    quotes_df['symbol'] = stock_symbol\n",
        "    return quotes_df"
      ]
    },
    {
      "cell_type": "markdown",
      "metadata": {
        "id": "GDHJvgZkenXn"
      },
      "source": [
        "## Technical Analysis"
      ]
    },
    {
      "cell_type": "markdown",
      "metadata": {
        "id": "ejwGjXFmxxj7"
      },
      "source": [
        "### CPU based technical indicator funtions"
      ]
    },
    {
      "cell_type": "code",
      "execution_count": 58,
      "metadata": {
        "id": "Br8Hly-uxxj7"
      },
      "outputs": [],
      "source": [
        "def ema(days, values):\n",
        "    alpha = 2 / (days + 1)\n",
        "    ema_values = [values[0]]  # start with the first value\n",
        "    for value in values[1:]:\n",
        "        ema_values.append(alpha * value + (1 - alpha) * ema_values[-1])\n",
        "    return ema_values[-1]\n",
        "\n",
        "def rsi(days, values):\n",
        "    gains = []\n",
        "    losses = []\n",
        "    for i in range(1, len(values)):\n",
        "        change = values[i] - values[i - 1]\n",
        "        if change > 0:\n",
        "            gains.append(change)\n",
        "            losses.append(0)\n",
        "        else:\n",
        "            gains.append(0)\n",
        "            losses.append(-change)\n",
        "    avg_gain = sum(gains[:days]) / days\n",
        "    avg_loss = sum(losses[:days]) / days\n",
        "    rs = avg_gain / avg_loss if avg_loss != 0 else 0\n",
        "    rsi_value = 100 - (100 / (1 + rs))\n",
        "    return rsi_value\n",
        "\n",
        "def macd(values, short_period=12, long_period=26, signal_period=9):\n",
        "    ema_short = ema(short_period, values)\n",
        "    ema_long = ema(long_period, values)\n",
        "    macd_line = np.array(ema_short) - np.array(ema_long)\n",
        "    signal_line = ema(signal_period, macd_line.tolist())\n",
        "    return macd_line, signal_line"
      ]
    },
    {
      "cell_type": "markdown",
      "metadata": {
        "id": "-iZdPy_Qxxj7"
      },
      "source": [
        "### GPU based technical indicator funtions"
      ]
    },
    {
      "cell_type": "code",
      "execution_count": 59,
      "metadata": {
        "id": "UneguZR7xxj7"
      },
      "outputs": [],
      "source": [
        "if params[\"cuda_installed\"]:\n",
        "\n",
        "    @cuda.jit\n",
        "    def ema_cuda(values, ema_values, days, n, m):\n",
        "        idx = cuda.threadIdx.x + cuda.blockDim.x * cuda.blockIdx.x\n",
        "        if idx < n:\n",
        "            alpha = 2.0 / (days + 1)\n",
        "            for j in range(m):\n",
        "                if j == 0:\n",
        "                    ema_values[idx * m] = values[idx * m]  # start with the first value\n",
        "                else:\n",
        "                    ema_values[idx * m + j] = alpha * values[idx * m + j] + (1 - alpha) * ema_values[idx * m + j - 1]\n",
        "\n",
        "    @cuda.jit\n",
        "    def compute_gains_losses_cuda(values, gains, losses, n):\n",
        "        idx = cuda.threadIdx.x + cuda.blockDim.x * cuda.blockIdx.x\n",
        "        if idx < n:\n",
        "            change = values[idx] - values[idx - 1]\n",
        "            gains[idx] = max(change, 0)\n",
        "            losses[idx] = max(-change, 0)\n",
        "\n",
        "    @cuda.jit\n",
        "    def macd_cuda(values, macd_values, signal_values, short_period, long_period, signal_period, n, m):\n",
        "        idx = cuda.threadIdx.x + cuda.blockDim.x * cuda.blockIdx.x\n",
        "        if idx < n:\n",
        "            alpha_short = 2.0 / (short_period + 1)\n",
        "            alpha_long = 2.0 / (long_period + 1)\n",
        "            alpha_signal = 2.0 / (signal_period + 1)\n",
        "            ema_short = 0\n",
        "            ema_long = 0\n",
        "            ema_signal = 0\n",
        "            for j in range(m):\n",
        "                if j < short_period:\n",
        "                    ema_short = alpha_short * values[idx * m + j] + (1 - alpha_short) * ema_short\n",
        "                if j < long_period:\n",
        "                    ema_long = alpha_long * values[idx * m + j] + (1 - alpha_long) * ema_long\n",
        "                macd_val = ema_short - ema_long\n",
        "                if j < signal_period:\n",
        "                    ema_signal = alpha_signal * macd_val + (1 - alpha_signal) * ema_signal\n",
        "                macd_values[idx * m + j] = macd_val\n",
        "                signal_values[idx * m + j] = ema_signal\n",
        "\n",
        "    def ema_gpu(values, days):\n",
        "        if values.ndim == 1:\n",
        "            n = values.shape[0]\n",
        "            m = 1\n",
        "        else:\n",
        "            n, m = values.shape\n",
        "\n",
        "        ema_values = np.empty_like(values)\n",
        "\n",
        "        block_size = 256\n",
        "        grid_size = (n + block_size - 1) // block_size\n",
        "\n",
        "        values_device = cuda.to_device(values)\n",
        "        ema_values_device = cuda.to_device(ema_values)\n",
        "\n",
        "        ema_cuda[grid_size, block_size](values_device, ema_values_device, days, n, m)\n",
        "        ema_values = ema_values_device.copy_to_host()\n",
        "\n",
        "        return ema_values\n",
        "\n",
        "    def rsi_gpu(days, values):\n",
        "        n = len(values)\n",
        "        gains = np.empty_like(values)\n",
        "        losses = np.empty_like(values)\n",
        "        block_size = 256\n",
        "        grid_size = (n + block_size - 1) // block_size\n",
        "\n",
        "        values_device = cuda.to_device(values)\n",
        "        gains_device = cuda.to_device(gains)\n",
        "        losses_device = cuda.to_device(losses)\n",
        "\n",
        "        compute_gains_losses_cuda[grid_size, block_size](values_device, gains_device, losses_device, n)\n",
        "        gains = gains_device.copy_to_host()\n",
        "        losses = losses_device.copy_to_host()\n",
        "\n",
        "        avg_gain = np.sum(gains[:days]) / days\n",
        "        avg_loss = np.sum(losses[:days]) / days\n",
        "        rs = avg_gain / avg_loss if avg_loss != 0 else 0\n",
        "        rsi_value = 100 - (100 / (1 + rs))\n",
        "        return rsi_value\n",
        "\n",
        "    def macd_gpu(values, short_period=12, long_period=26, signal_period=9):\n",
        "        # n, m = values.shape\n",
        "        n = len(values)\n",
        "        m = 1\n",
        "        macd_values = np.empty_like(values)\n",
        "        signal_values = np.empty_like(values)\n",
        "\n",
        "        block_size = 256\n",
        "        grid_size = (n + block_size - 1) // block_size\n",
        "\n",
        "        values_device = cuda.to_device(values)\n",
        "        macd_values_device = cuda.to_device(macd_values)\n",
        "        signal_values_device = cuda.to_device(signal_values)\n",
        "\n",
        "\n",
        "        macd_cuda[grid_size, block_size](values_device, macd_values_device, signal_values_device, short_period, long_period, signal_period, n, m)\n",
        "        macd_values = macd_values_device.copy_to_host()\n",
        "        signal_values = signal_values_device.copy_to_host()\n",
        "\n",
        "        return macd_values, signal_values"
      ]
    },
    {
      "cell_type": "markdown",
      "metadata": {
        "id": "3WLE_23ienXn"
      },
      "source": [
        "## Core Main Program"
      ]
    },
    {
      "cell_type": "markdown",
      "metadata": {
        "id": "6yK1ez7PCIXf"
      },
      "source": [
        "### Read CSV files"
      ]
    },
    {
      "cell_type": "code",
      "execution_count": 60,
      "metadata": {
        "id": "jkdyQKBkCIXf"
      },
      "outputs": [],
      "source": [
        "# Read symbols from the CSV file\n",
        "def read_symbols_from_csvfile(csvfile_path):\n",
        "    symbols = []\n",
        "    with open(csvfile_path, 'r') as csvfile:\n",
        "        reader = csv.reader(csvfile)\n",
        "        next(reader)  # Skip the header\n",
        "        for row in reader:\n",
        "            symbols.append(row[0])  # Assuming the symbol is the first column\n",
        "    return symbols"
      ]
    },
    {
      "cell_type": "markdown",
      "metadata": {
        "id": "srR3kfUACIXf"
      },
      "source": [
        "### Obtain GPU lock"
      ]
    },
    {
      "cell_type": "code",
      "execution_count": null,
      "metadata": {
        "id": "EE-KNl3yCIXf"
      },
      "outputs": [],
      "source": [
        "# Obtain available GPU and lock it; otherwise wait for available GPU\n",
        "def obtain_available_gpu_lock(locks, params, rank):\n",
        "    if params[\"mpi_installed\"]:\n",
        "\n",
        "        # Wait for available GPU\n",
        "        while True:\n",
        "            for i in range(len(locks)):\n",
        "                # lock_status = locks[i].Get_attr(MPI.WIN_LOCK_STATUS)\n",
        "                # if lock_status == 0:\n",
        "                #     locks[i].lock(i)\n",
        "                #     return i\n",
        "                win.Lock(i)\n",
        "                if locks[i] == -1:\n",
        "                    locks[i] = rank\n",
        "                    return i\n",
        "                win.Unlock(i)\n",
        "            # Sleep for random time to avoid busy waiting\n",
        "            time.sleep(random.choice([0.1, 0.2, 0.3, 0.5, 0.7]))\n",
        "    return None"
      ]
    },
    {
      "cell_type": "markdown",
      "metadata": {
        "id": "7ikXvzVPCIXf"
      },
      "source": [
        "### Release GPU Lock"
      ]
    },
    {
      "cell_type": "code",
      "execution_count": null,
      "metadata": {
        "id": "HBrP7cDkCIXf"
      },
      "outputs": [],
      "source": [
        "def release_gpu_lock(locks, gpu_index, params, rank):\n",
        "    if params[\"mpi_installed\"]:\n",
        "        if locks[gpu_index] == rank:\n",
        "            locks[gpu_index] = -1\n",
        "            win.Unlock(gpu_index)\n",
        "            return True\n",
        "        return False\n",
        "    else:\n",
        "        return True"
      ]
    },
    {
      "cell_type": "markdown",
      "metadata": {
        "id": "fsTdN5KUCIXf"
      },
      "source": [
        "### Core Logic"
      ]
    },
    {
      "cell_type": "code",
      "execution_count": 69,
      "metadata": {
        "id": "lNTSBjMDCIXf"
      },
      "outputs": [],
      "source": [
        "def core_logic(symbols, start_date, end_date, rank, size, params, locks, win):\n",
        "\n",
        "    results = pd.DataFrame()\n",
        "    # Fetch stock price history quotes using the local symbols\n",
        "    for symbol in symbols:\n",
        "\n",
        "        # Load the stock price history data into pandas DataFrame\n",
        "        stock_price_history_df = get_stock_price_history_quotes(symbol, start_date, end_date)\n",
        "        if stock_price_history_df.shape[0] > 0:\n",
        "\n",
        "            # Calculate technical indicators using CUDA\n",
        "            if params[\"cuda_installed\"]:\n",
        "                gpu_id = obtain_available_gpu_lock(locks, params)\n",
        "                stock_price_history_df['EMA'] = ema_gpu(stock_price_history_df['close'].values, 12)\n",
        "                release_gpu_lock(locks, gpu_id, params)\n",
        "\n",
        "                gpu_id = obtain_available_gpu_lock(locks, params)\n",
        "                stock_price_history_df['RSI'] = rsi_gpu(14, stock_price_history_df['close'].values)\n",
        "                release_gpu_lock(locks, gpu_id, params)\n",
        "\n",
        "                gpu_id = obtain_available_gpu_lock(locks, params)\n",
        "                macd_values, signal_values = macd_gpu(stock_price_history_df['close'].values)\n",
        "                release_gpu_lock(locks, gpu_id, params)\n",
        "\n",
        "                stock_price_history_df['MACD'] = macd_values\n",
        "                stock_price_history_df['Signal'] = signal_values\n",
        "            else:\n",
        "                stock_price_history_df['EMA'] = stock_price_history_df['close'].rolling(window=12).mean()\n",
        "                stock_price_history_df['RSI'] = stock_price_history_df['close'].rolling(window=14).apply(rsi, raw=True)\n",
        "                # macd_values, signal_values = macd(stock_price_history_df['close'].values)\n",
        "                stock_price_history_df['MACD'] = macd_values\n",
        "                stock_price_history_df['Signal'] = signal_values\n",
        "\n",
        "            results = pd.concat([results, stock_price_history_df])\n",
        "\n",
        "\n",
        "    return results"
      ]
    },
    {
      "cell_type": "markdown",
      "metadata": {
        "id": "TTaod5vHCIXg"
      },
      "source": [
        "### Main Logic with Serial Programming"
      ]
    },
    {
      "cell_type": "code",
      "execution_count": 64,
      "metadata": {
        "id": "dz13tH4KCIXg"
      },
      "outputs": [],
      "source": [
        "def main_serial(params):\n",
        "\n",
        "    current_year = datetime.now().year\n",
        "    previous_day = datetime.now() - timedelta(days=1)\n",
        "    first_day_of_year = f\"{current_year}-01-01\"\n",
        "    previous_day_str = previous_day.strftime(\"%Y-%m-%d\")\n",
        "\n",
        "    start_date = first_day_of_year + \"T00:00:00\"\n",
        "    end_date = previous_day_str + \"T23:59:59\"\n",
        "    data_dir = './data'\n",
        "\n",
        "    gpu_cores = 0\n",
        "    rank = 0\n",
        "    size = 1\n",
        "    serial_fetching_stock_start_time = time.time()\n",
        "\n",
        "    print(f\"Rank: {rank}, Size: {size}\")\n",
        "\n",
        "    # Read symbols from the CSV file\n",
        "    symbols = read_symbols_from_csvfile(os.environ[\"PROJECT_ROOT\"] + \"s-and-p-500-constituents/sandp500-20240310.csv\")\n",
        "\n",
        "\n",
        "    # ************** #\n",
        "    # * Core logic * #\n",
        "    # ************** #\n",
        "    results = core_logic(symbols, start_date, end_date, rank, size, params, None, None)\n",
        "\n",
        "\n",
        "    serial_fetching_stock_end_time = time.time()\n",
        "    print(f\"Serial fetching stock price history quotes completed in {serial_fetching_stock_end_time - serial_fetching_stock_start_time} seconds\")"
      ]
    },
    {
      "cell_type": "markdown",
      "metadata": {
        "id": "kWyqpk9fCIXg"
      },
      "source": [
        "### Main Logic with Hybrid Programming"
      ]
    },
    {
      "cell_type": "code",
      "execution_count": 71,
      "metadata": {
        "id": "PQqTKjwDxxj7"
      },
      "outputs": [],
      "source": [
        "def main_hybrid(params):\n",
        "\n",
        "    current_year = datetime.now().year\n",
        "    previous_day = datetime.now() - timedelta(days=1)\n",
        "    first_day_of_year = f\"{current_year}-01-01\"\n",
        "    previous_day_str = previous_day.strftime(\"%Y-%m-%d\")\n",
        "\n",
        "    start_date = first_day_of_year + \"T00:00:00\"\n",
        "    end_date = previous_day_str + \"T23:59:59\"\n",
        "    data_dir = './data'\n",
        "\n",
        "    # Create a lock for each GPU\n",
        "    if params[\"cuda_installed\"]:\n",
        "\n",
        "        device = cuda.get_current_device()\n",
        "        print(f\"GPU name: {device.name.decode('utf-8')}\")\n",
        "\n",
        "        gpu_cores = len(cuda.gpus)\n",
        "        print(f\"GPU cores: {gpu_cores}\")\n",
        "\n",
        "    else:\n",
        "        print(\"CUDA is not available\")\n",
        "        gpu_cores = 0\n",
        "        \n",
        "    if params[\"mpi_installed\"]:\n",
        "        # Initialize MPI\n",
        "        comm = MPI.COMM_WORLD\n",
        "\n",
        "        # check if mpi is initialized\n",
        "        if comm:\n",
        "            rank = comm.Get_rank()\n",
        "            size = comm.Get_size()\n",
        "\n",
        "            # MPI WTime\n",
        "            parallel_fetching_stock_start_time = MPI.Wtime()\n",
        "        else:\n",
        "            rank = 0\n",
        "            size = 1\n",
        "            serial_fetching_stock_start_time = time.time()\n",
        "    else:\n",
        "        rank = 0\n",
        "        size = 1\n",
        "        serial_fetching_stock_start_time = time.time()\n",
        "\n",
        "    if params[\"mpi_installed\"] and params[\"cuda_installed\"]:\n",
        "        print(f\"Initializing GPU locks\")\n",
        "        # locks = [MPI.Win.Create(None, 1, MPI.INFO_NULL, MPI.COMM_WORLD) for _ in range(gpu_cores)]\n",
        "        # locks = [MPI.Win.Allocate(1, 1, MPI.INFO_NULL, MPI.COMM_WORLD) for _ in range(gpu_cores)]\n",
        "        # for i in range(gpu_cores):\n",
        "        #     locks[i].Fence(0)\n",
        "        locks = np.zeros(gpu_cores, dtype='i')\n",
        "        win = MPI.Win.Create(locks, comm=comm)\n",
        "        print(f\"{len(locks)} GPU(s) are allocated\")\n",
        "    else:\n",
        "      locks = []\n",
        "\n",
        "    print(f\"Rank: {rank}, Size: {size}\")\n",
        "\n",
        "    # Root process should scatter the symbols to all processes\n",
        "    if rank == 0:\n",
        "\n",
        "        # Read symbols from the CSV file\n",
        "        symbols = read_symbols_from_csvfile(os.environ[\"PROJECT_ROOT\"] + \"s-and-p-500-constituents/sandp500-20240310.csv\")\n",
        "\n",
        "        # Calculate how many symbols each process should receive\n",
        "        symbols_per_process = len(symbols) // size\n",
        "        if size > 1:\n",
        "            remainder = len(symbols) % size\n",
        "            if remainder != 0 and rank < remainder:\n",
        "                symbols_per_process += 1\n",
        "\n",
        "            # Scatter symbols to all processes and each process should receive length of symbols / size blocks\n",
        "            local_symbols = [symbols[i:i + symbols_per_process] for i in range(0, len(symbols), symbols_per_process)]\n",
        "        else:\n",
        "          local_symbols = [symbols]\n",
        "\n",
        "    else:\n",
        "        local_symbols = None\n",
        "\n",
        "    if comm:\n",
        "        local_symbols = comm.scatter(local_symbols, root=0)\n",
        "\n",
        "    # ************** #\n",
        "    # * Core logic * #\n",
        "    # ************** #\n",
        "    print(f\"params: {params}\")\n",
        "\n",
        "    results = core_logic(local_symbols, start_date, end_date, rank, size, params, locks, win)\n",
        "\n",
        "    ## Gather the results from all processes\n",
        "    remote_results = pd.DataFrame()\n",
        "    if comm:\n",
        "        remote_result = comm.gather(results, root=0)\n",
        "\n",
        "    if rank == 0:\n",
        "        results = pd.concat([results, remote_results])\n",
        "        if params[\"mpi_installed\"] and comm:\n",
        "            display(results)\n",
        "\n",
        "            # MPI WTime\n",
        "            parallel_fetching_stock_end_time = MPI.Wtime()\n",
        "            print(f\"Parallel fetching stock price history quotes completed in {parallel_fetching_stock_end_time - parallel_fetching_stock_start_time} seconds\")\n",
        "        else:\n",
        "            serial_fetching_stock_end_time = time.time()\n",
        "            print(f\"Serial fetching stock price history quotes completed in {serial_fetching_stock_end_time - serial_fetching_stock_start_time} seconds\")\n"
      ]
    },
    {
      "cell_type": "markdown",
      "metadata": {
        "id": "5zSFC0mZCIXg"
      },
      "source": [
        "### Main Body"
      ]
    },
    {
      "cell_type": "code",
      "execution_count": 72,
      "metadata": {
        "colab": {
          "base_uri": "https://localhost:8080/",
          "height": 443
        },
        "id": "3-4WlGYFCIXg",
        "outputId": "8205828a-0e9f-44f0-f7a7-bf08adeef8af"
      },
      "outputs": [
        {
          "name": "stderr",
          "output_type": "stream",
          "text": [
            "\r[*********************100%%**********************]  1 of 1 completed"
          ]
        },
        {
          "name": "stdout",
          "output_type": "stream",
          "text": [
            "GPU name: Tesla T4\n",
            "GPU cores: 1\n",
            "Initializing GPU locks\n",
            "1 GPU(s) are allocated\n",
            "Rank: 0, Size: 1\n",
            "params: {'in_colab': True, 'in_notebook': True, 'is_macos': False, 'is_debian': True, 'is_wsl': False, 'mpi_installed': True, 'cuda_installed': True}\n"
          ]
        },
        {
          "name": "stderr",
          "output_type": "stream",
          "text": [
            "\n"
          ]
        },
        {
          "ename": "AttributeError",
          "evalue": "'mpi4py.MPI.Win' object has no attribute 'get_attr'",
          "output_type": "error",
          "traceback": [
            "\u001b[0;31m---------------------------------------------------------------------------\u001b[0m",
            "\u001b[0;31mAttributeError\u001b[0m                            Traceback (most recent call last)",
            "\u001b[0;32m<ipython-input-72-9c56a310f899>\u001b[0m in \u001b[0;36m<cell line: 1>\u001b[0;34m()\u001b[0m\n\u001b[1;32m      1\u001b[0m \u001b[0;32mif\u001b[0m \u001b[0m__name__\u001b[0m \u001b[0;34m==\u001b[0m \u001b[0;34m\"__main__\"\u001b[0m\u001b[0;34m:\u001b[0m\u001b[0;34m\u001b[0m\u001b[0;34m\u001b[0m\u001b[0m\n\u001b[1;32m      2\u001b[0m     \u001b[0;31m# main_serial(params)\u001b[0m\u001b[0;34m\u001b[0m\u001b[0;34m\u001b[0m\u001b[0m\n\u001b[0;32m----> 3\u001b[0;31m     \u001b[0mmain_hybrid\u001b[0m\u001b[0;34m(\u001b[0m\u001b[0mparams\u001b[0m\u001b[0;34m)\u001b[0m\u001b[0;34m\u001b[0m\u001b[0;34m\u001b[0m\u001b[0m\n\u001b[0m",
            "\u001b[0;32m<ipython-input-71-02874cd4e9f3>\u001b[0m in \u001b[0;36mmain_hybrid\u001b[0;34m(params)\u001b[0m\n\u001b[1;32m     84\u001b[0m     \u001b[0mprint\u001b[0m\u001b[0;34m(\u001b[0m\u001b[0;34mf\"params: {params}\"\u001b[0m\u001b[0;34m)\u001b[0m\u001b[0;34m\u001b[0m\u001b[0;34m\u001b[0m\u001b[0m\n\u001b[1;32m     85\u001b[0m \u001b[0;34m\u001b[0m\u001b[0m\n\u001b[0;32m---> 86\u001b[0;31m     \u001b[0mresults\u001b[0m \u001b[0;34m=\u001b[0m \u001b[0mcore_logic\u001b[0m\u001b[0;34m(\u001b[0m\u001b[0mlocal_symbols\u001b[0m\u001b[0;34m,\u001b[0m \u001b[0mstart_date\u001b[0m\u001b[0;34m,\u001b[0m \u001b[0mend_date\u001b[0m\u001b[0;34m,\u001b[0m \u001b[0mrank\u001b[0m\u001b[0;34m,\u001b[0m \u001b[0msize\u001b[0m\u001b[0;34m,\u001b[0m \u001b[0mparams\u001b[0m\u001b[0;34m,\u001b[0m \u001b[0mlocks\u001b[0m\u001b[0;34m)\u001b[0m\u001b[0;34m\u001b[0m\u001b[0;34m\u001b[0m\u001b[0m\n\u001b[0m\u001b[1;32m     87\u001b[0m \u001b[0;34m\u001b[0m\u001b[0m\n\u001b[1;32m     88\u001b[0m     \u001b[0;31m## Gather the results from all processes\u001b[0m\u001b[0;34m\u001b[0m\u001b[0;34m\u001b[0m\u001b[0m\n",
            "\u001b[0;32m<ipython-input-69-2ca10be995b9>\u001b[0m in \u001b[0;36mcore_logic\u001b[0;34m(symbols, start_date, end_date, rank, size, params, locks)\u001b[0m\n\u001b[1;32m     11\u001b[0m             \u001b[0;31m# Calculate technical indicators using CUDA\u001b[0m\u001b[0;34m\u001b[0m\u001b[0;34m\u001b[0m\u001b[0m\n\u001b[1;32m     12\u001b[0m             \u001b[0;32mif\u001b[0m \u001b[0mparams\u001b[0m\u001b[0;34m[\u001b[0m\u001b[0;34m\"cuda_installed\"\u001b[0m\u001b[0;34m]\u001b[0m\u001b[0;34m:\u001b[0m\u001b[0;34m\u001b[0m\u001b[0;34m\u001b[0m\u001b[0m\n\u001b[0;32m---> 13\u001b[0;31m                 \u001b[0mgpu_id\u001b[0m \u001b[0;34m=\u001b[0m \u001b[0mobtain_available_gpu_lock\u001b[0m\u001b[0;34m(\u001b[0m\u001b[0mlocks\u001b[0m\u001b[0;34m,\u001b[0m \u001b[0mparams\u001b[0m\u001b[0;34m)\u001b[0m\u001b[0;34m\u001b[0m\u001b[0;34m\u001b[0m\u001b[0m\n\u001b[0m\u001b[1;32m     14\u001b[0m                 \u001b[0mstock_price_history_df\u001b[0m\u001b[0;34m[\u001b[0m\u001b[0;34m'EMA'\u001b[0m\u001b[0;34m]\u001b[0m \u001b[0;34m=\u001b[0m \u001b[0mema_gpu\u001b[0m\u001b[0;34m(\u001b[0m\u001b[0mstock_price_history_df\u001b[0m\u001b[0;34m[\u001b[0m\u001b[0;34m'close'\u001b[0m\u001b[0;34m]\u001b[0m\u001b[0;34m.\u001b[0m\u001b[0mvalues\u001b[0m\u001b[0;34m,\u001b[0m \u001b[0;36m12\u001b[0m\u001b[0;34m)\u001b[0m\u001b[0;34m\u001b[0m\u001b[0;34m\u001b[0m\u001b[0m\n\u001b[1;32m     15\u001b[0m                 \u001b[0mrelease_gpu_lock\u001b[0m\u001b[0;34m(\u001b[0m\u001b[0mlocks\u001b[0m\u001b[0;34m,\u001b[0m \u001b[0mgpu_id\u001b[0m\u001b[0;34m,\u001b[0m \u001b[0mparams\u001b[0m\u001b[0;34m)\u001b[0m\u001b[0;34m\u001b[0m\u001b[0;34m\u001b[0m\u001b[0m\n",
            "\u001b[0;32m<ipython-input-61-de9b6c728fef>\u001b[0m in \u001b[0;36mobtain_available_gpu_lock\u001b[0;34m(locks, params)\u001b[0m\n\u001b[1;32m      6\u001b[0m         \u001b[0;32mwhile\u001b[0m \u001b[0;32mTrue\u001b[0m\u001b[0;34m:\u001b[0m\u001b[0;34m\u001b[0m\u001b[0;34m\u001b[0m\u001b[0m\n\u001b[1;32m      7\u001b[0m             \u001b[0;32mfor\u001b[0m \u001b[0mi\u001b[0m \u001b[0;32min\u001b[0m \u001b[0mrange\u001b[0m\u001b[0;34m(\u001b[0m\u001b[0mlen\u001b[0m\u001b[0;34m(\u001b[0m\u001b[0mlocks\u001b[0m\u001b[0;34m)\u001b[0m\u001b[0;34m)\u001b[0m\u001b[0;34m:\u001b[0m\u001b[0;34m\u001b[0m\u001b[0;34m\u001b[0m\u001b[0m\n\u001b[0;32m----> 8\u001b[0;31m                 \u001b[0mlock_status\u001b[0m \u001b[0;34m=\u001b[0m \u001b[0mlocks\u001b[0m\u001b[0;34m[\u001b[0m\u001b[0mi\u001b[0m\u001b[0;34m]\u001b[0m\u001b[0;34m.\u001b[0m\u001b[0mget_attr\u001b[0m\u001b[0;34m(\u001b[0m\u001b[0mMPI\u001b[0m\u001b[0;34m.\u001b[0m\u001b[0mWIN_LOCK_STATUS\u001b[0m\u001b[0;34m)\u001b[0m\u001b[0;34m\u001b[0m\u001b[0;34m\u001b[0m\u001b[0m\n\u001b[0m\u001b[1;32m      9\u001b[0m                 \u001b[0;32mif\u001b[0m \u001b[0mlock_status\u001b[0m \u001b[0;34m==\u001b[0m \u001b[0;36m0\u001b[0m\u001b[0;34m:\u001b[0m\u001b[0;34m\u001b[0m\u001b[0;34m\u001b[0m\u001b[0m\n\u001b[1;32m     10\u001b[0m                     \u001b[0mlocks\u001b[0m\u001b[0;34m[\u001b[0m\u001b[0mi\u001b[0m\u001b[0;34m]\u001b[0m\u001b[0;34m.\u001b[0m\u001b[0mlock\u001b[0m\u001b[0;34m(\u001b[0m\u001b[0mi\u001b[0m\u001b[0;34m)\u001b[0m\u001b[0;34m\u001b[0m\u001b[0;34m\u001b[0m\u001b[0m\n",
            "\u001b[0;31mAttributeError\u001b[0m: 'mpi4py.MPI.Win' object has no attribute 'get_attr'"
          ]
        }
      ],
      "source": [
        "if __name__ == \"__main__\":\n",
        "    # main_serial(params)\n",
        "    main_hybrid(params)"
      ]
    },
    {
      "cell_type": "markdown",
      "metadata": {
        "id": "_gtrQHTTenXn"
      },
      "source": [
        "## Data Visualization"
      ]
    },
    {
      "cell_type": "markdown",
      "metadata": {
        "id": "O-0UYnFaenXn"
      },
      "source": [
        "## Performance Analysis"
      ]
    }
  ],
  "metadata": {
    "accelerator": "GPU",
    "colab": {
      "gpuType": "T4",
      "provenance": []
    },
    "kernelspec": {
      "display_name": "Python 3 (ipykernel)",
      "language": "python",
      "name": "python3"
    }
  },
  "nbformat": 4,
  "nbformat_minor": 0
}
